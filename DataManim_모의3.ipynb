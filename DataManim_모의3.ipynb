{
  "nbformat": 4,
  "nbformat_minor": 0,
  "metadata": {
    "colab": {
      "name": "DataManim_모의3.ipynb",
      "provenance": [],
      "authorship_tag": "ABX9TyM4hcU9NInUHqQFr57wk297",
      "include_colab_link": true
    },
    "kernelspec": {
      "name": "python3",
      "display_name": "Python 3"
    },
    "language_info": {
      "name": "python"
    }
  },
  "cells": [
    {
      "cell_type": "markdown",
      "metadata": {
        "id": "view-in-github",
        "colab_type": "text"
      },
      "source": [
        "<a href=\"https://colab.research.google.com/github/heyggun/bigdata_analysis_test/blob/main/DataManim_%EB%AA%A8%EC%9D%983.ipynb\" target=\"_parent\"><img src=\"https://colab.research.google.com/assets/colab-badge.svg\" alt=\"Open In Colab\"/></a>"
      ]
    },
    {
      "cell_type": "markdown",
      "source": [
        "# 모의고사"
      ],
      "metadata": {
        "id": "uwor0zaYASsa"
      }
    },
    {
      "cell_type": "markdown",
      "source": [
        "https://www.datamanim.com/dataset/practice/q3.html"
      ],
      "metadata": {
        "id": "Fyw4Fmw0AHns"
      }
    },
    {
      "cell_type": "markdown",
      "source": [
        "## 3회차"
      ],
      "metadata": {
        "id": "XYfqUMPTAVlO"
      }
    },
    {
      "cell_type": "markdown",
      "source": [
        "### 작업 1 유형"
      ],
      "metadata": {
        "id": "xxm3J2gQAWkx"
      }
    },
    {
      "cell_type": "markdown",
      "source": [
        "- 데이터 출처 : link (후처리 작업)\n",
        "데이터 설명 : 2010-2019 스포티파이 TOP100 노래\n",
        "- dataurl : https://raw.githubusercontent.com/Datamanim/datarepo/main/spotify/spotify.csv\n",
        "\n"
      ],
      "metadata": {
        "id": "McCiv3R_AYsC"
      }
    },
    {
      "cell_type": "code",
      "source": [
        "import pandas as pd\n",
        "import numpy as np"
      ],
      "metadata": {
        "id": "51lYx-ShAeRr"
      },
      "execution_count": 1,
      "outputs": []
    },
    {
      "cell_type": "code",
      "source": [
        "dataURL = 'https://raw.githubusercontent.com/Datamanim/datarepo/main/spotify/spotify.csv'"
      ],
      "metadata": {
        "id": "yVnoVlbhAeGV"
      },
      "execution_count": 2,
      "outputs": []
    },
    {
      "cell_type": "code",
      "execution_count": 3,
      "metadata": {
        "colab": {
          "base_uri": "https://localhost:8080/",
          "height": 294
        },
        "id": "S8XrRn8TAC_X",
        "outputId": "16590f04-9968-4fde-def1-0fbec8b73877"
      },
      "outputs": [
        {
          "output_type": "display_data",
          "data": {
            "text/plain": [
              "                           title      artist  top genre  year released  \\\n",
              "0  STARSTRUKK (feat. Katy Perry)       3OH!3  dance pop         2009.0   \n",
              "1    My First Kiss (feat. Ke$ha)       3OH!3  dance pop         2010.0   \n",
              "2                I Need A Dollar  Aloe Blacc   pop soul         2010.0   \n",
              "\n",
              "        added    bpm  nrgy  dnce   dB  live   val    dur  acous  spch   pop  \\\n",
              "0  2022‑02‑17  140.0  81.0  61.0 -6.0  23.0  23.0  203.0    0.0   6.0  70.0   \n",
              "1  2022‑02‑17  138.0  89.0  68.0 -4.0  36.0  83.0  192.0    1.0   8.0  68.0   \n",
              "2  2022‑02‑17   95.0  48.0  84.0 -7.0   9.0  96.0  243.0   20.0   3.0  72.0   \n",
              "\n",
              "   top year artist type  \n",
              "0    2010.0         Duo  \n",
              "1    2010.0         Duo  \n",
              "2    2010.0        Solo  "
            ],
            "text/html": [
              "\n",
              "  <div id=\"df-7213a163-4f9d-4134-98b5-1766cab68e3d\">\n",
              "    <div class=\"colab-df-container\">\n",
              "      <div>\n",
              "<style scoped>\n",
              "    .dataframe tbody tr th:only-of-type {\n",
              "        vertical-align: middle;\n",
              "    }\n",
              "\n",
              "    .dataframe tbody tr th {\n",
              "        vertical-align: top;\n",
              "    }\n",
              "\n",
              "    .dataframe thead th {\n",
              "        text-align: right;\n",
              "    }\n",
              "</style>\n",
              "<table border=\"1\" class=\"dataframe\">\n",
              "  <thead>\n",
              "    <tr style=\"text-align: right;\">\n",
              "      <th></th>\n",
              "      <th>title</th>\n",
              "      <th>artist</th>\n",
              "      <th>top genre</th>\n",
              "      <th>year released</th>\n",
              "      <th>added</th>\n",
              "      <th>bpm</th>\n",
              "      <th>nrgy</th>\n",
              "      <th>dnce</th>\n",
              "      <th>dB</th>\n",
              "      <th>live</th>\n",
              "      <th>val</th>\n",
              "      <th>dur</th>\n",
              "      <th>acous</th>\n",
              "      <th>spch</th>\n",
              "      <th>pop</th>\n",
              "      <th>top year</th>\n",
              "      <th>artist type</th>\n",
              "    </tr>\n",
              "  </thead>\n",
              "  <tbody>\n",
              "    <tr>\n",
              "      <th>0</th>\n",
              "      <td>STARSTRUKK (feat. Katy Perry)</td>\n",
              "      <td>3OH!3</td>\n",
              "      <td>dance pop</td>\n",
              "      <td>2009.0</td>\n",
              "      <td>2022‑02‑17</td>\n",
              "      <td>140.0</td>\n",
              "      <td>81.0</td>\n",
              "      <td>61.0</td>\n",
              "      <td>-6.0</td>\n",
              "      <td>23.0</td>\n",
              "      <td>23.0</td>\n",
              "      <td>203.0</td>\n",
              "      <td>0.0</td>\n",
              "      <td>6.0</td>\n",
              "      <td>70.0</td>\n",
              "      <td>2010.0</td>\n",
              "      <td>Duo</td>\n",
              "    </tr>\n",
              "    <tr>\n",
              "      <th>1</th>\n",
              "      <td>My First Kiss (feat. Ke$ha)</td>\n",
              "      <td>3OH!3</td>\n",
              "      <td>dance pop</td>\n",
              "      <td>2010.0</td>\n",
              "      <td>2022‑02‑17</td>\n",
              "      <td>138.0</td>\n",
              "      <td>89.0</td>\n",
              "      <td>68.0</td>\n",
              "      <td>-4.0</td>\n",
              "      <td>36.0</td>\n",
              "      <td>83.0</td>\n",
              "      <td>192.0</td>\n",
              "      <td>1.0</td>\n",
              "      <td>8.0</td>\n",
              "      <td>68.0</td>\n",
              "      <td>2010.0</td>\n",
              "      <td>Duo</td>\n",
              "    </tr>\n",
              "    <tr>\n",
              "      <th>2</th>\n",
              "      <td>I Need A Dollar</td>\n",
              "      <td>Aloe Blacc</td>\n",
              "      <td>pop soul</td>\n",
              "      <td>2010.0</td>\n",
              "      <td>2022‑02‑17</td>\n",
              "      <td>95.0</td>\n",
              "      <td>48.0</td>\n",
              "      <td>84.0</td>\n",
              "      <td>-7.0</td>\n",
              "      <td>9.0</td>\n",
              "      <td>96.0</td>\n",
              "      <td>243.0</td>\n",
              "      <td>20.0</td>\n",
              "      <td>3.0</td>\n",
              "      <td>72.0</td>\n",
              "      <td>2010.0</td>\n",
              "      <td>Solo</td>\n",
              "    </tr>\n",
              "  </tbody>\n",
              "</table>\n",
              "</div>\n",
              "      <button class=\"colab-df-convert\" onclick=\"convertToInteractive('df-7213a163-4f9d-4134-98b5-1766cab68e3d')\"\n",
              "              title=\"Convert this dataframe to an interactive table.\"\n",
              "              style=\"display:none;\">\n",
              "        \n",
              "  <svg xmlns=\"http://www.w3.org/2000/svg\" height=\"24px\"viewBox=\"0 0 24 24\"\n",
              "       width=\"24px\">\n",
              "    <path d=\"M0 0h24v24H0V0z\" fill=\"none\"/>\n",
              "    <path d=\"M18.56 5.44l.94 2.06.94-2.06 2.06-.94-2.06-.94-.94-2.06-.94 2.06-2.06.94zm-11 1L8.5 8.5l.94-2.06 2.06-.94-2.06-.94L8.5 2.5l-.94 2.06-2.06.94zm10 10l.94 2.06.94-2.06 2.06-.94-2.06-.94-.94-2.06-.94 2.06-2.06.94z\"/><path d=\"M17.41 7.96l-1.37-1.37c-.4-.4-.92-.59-1.43-.59-.52 0-1.04.2-1.43.59L10.3 9.45l-7.72 7.72c-.78.78-.78 2.05 0 2.83L4 21.41c.39.39.9.59 1.41.59.51 0 1.02-.2 1.41-.59l7.78-7.78 2.81-2.81c.8-.78.8-2.07 0-2.86zM5.41 20L4 18.59l7.72-7.72 1.47 1.35L5.41 20z\"/>\n",
              "  </svg>\n",
              "      </button>\n",
              "      \n",
              "  <style>\n",
              "    .colab-df-container {\n",
              "      display:flex;\n",
              "      flex-wrap:wrap;\n",
              "      gap: 12px;\n",
              "    }\n",
              "\n",
              "    .colab-df-convert {\n",
              "      background-color: #E8F0FE;\n",
              "      border: none;\n",
              "      border-radius: 50%;\n",
              "      cursor: pointer;\n",
              "      display: none;\n",
              "      fill: #1967D2;\n",
              "      height: 32px;\n",
              "      padding: 0 0 0 0;\n",
              "      width: 32px;\n",
              "    }\n",
              "\n",
              "    .colab-df-convert:hover {\n",
              "      background-color: #E2EBFA;\n",
              "      box-shadow: 0px 1px 2px rgba(60, 64, 67, 0.3), 0px 1px 3px 1px rgba(60, 64, 67, 0.15);\n",
              "      fill: #174EA6;\n",
              "    }\n",
              "\n",
              "    [theme=dark] .colab-df-convert {\n",
              "      background-color: #3B4455;\n",
              "      fill: #D2E3FC;\n",
              "    }\n",
              "\n",
              "    [theme=dark] .colab-df-convert:hover {\n",
              "      background-color: #434B5C;\n",
              "      box-shadow: 0px 1px 3px 1px rgba(0, 0, 0, 0.15);\n",
              "      filter: drop-shadow(0px 1px 2px rgba(0, 0, 0, 0.3));\n",
              "      fill: #FFFFFF;\n",
              "    }\n",
              "  </style>\n",
              "\n",
              "      <script>\n",
              "        const buttonEl =\n",
              "          document.querySelector('#df-7213a163-4f9d-4134-98b5-1766cab68e3d button.colab-df-convert');\n",
              "        buttonEl.style.display =\n",
              "          google.colab.kernel.accessAllowed ? 'block' : 'none';\n",
              "\n",
              "        async function convertToInteractive(key) {\n",
              "          const element = document.querySelector('#df-7213a163-4f9d-4134-98b5-1766cab68e3d');\n",
              "          const dataTable =\n",
              "            await google.colab.kernel.invokeFunction('convertToInteractive',\n",
              "                                                     [key], {});\n",
              "          if (!dataTable) return;\n",
              "\n",
              "          const docLinkHtml = 'Like what you see? Visit the ' +\n",
              "            '<a target=\"_blank\" href=https://colab.research.google.com/notebooks/data_table.ipynb>data table notebook</a>'\n",
              "            + ' to learn more about interactive tables.';\n",
              "          element.innerHTML = '';\n",
              "          dataTable['output_type'] = 'display_data';\n",
              "          await google.colab.output.renderOutput(dataTable, element);\n",
              "          const docLink = document.createElement('div');\n",
              "          docLink.innerHTML = docLinkHtml;\n",
              "          element.appendChild(docLink);\n",
              "        }\n",
              "      </script>\n",
              "    </div>\n",
              "  </div>\n",
              "  "
            ]
          },
          "metadata": {}
        }
      ],
      "source": [
        "df = pd.read_csv(dataURL)\n",
        "display(df.head(3))"
      ]
    },
    {
      "cell_type": "markdown",
      "source": [
        "Q1. 데이터는 현재 년도별 100곡이 인기순으로 정렬되어 있다. 각 년도별 1~100위의 랭킹을 나타내는 rank컬럼을 만들고 매년도 1위의 bpm컬럼의 평균값을 구하여라"
      ],
      "metadata": {
        "id": "f6Cli9uMAxdb"
      }
    },
    {
      "cell_type": "code",
      "source": [
        "df.shape"
      ],
      "metadata": {
        "colab": {
          "base_uri": "https://localhost:8080/"
        },
        "id": "7anhMQpiArK8",
        "outputId": "dc7bb3f8-49ac-47e6-cfd7-b8559e2a078e"
      },
      "execution_count": 4,
      "outputs": [
        {
          "output_type": "execute_result",
          "data": {
            "text/plain": [
              "(1003, 17)"
            ]
          },
          "metadata": {},
          "execution_count": 4
        }
      ]
    },
    {
      "cell_type": "code",
      "source": [
        "df = df.dropna()\n",
        "df.shape"
      ],
      "metadata": {
        "colab": {
          "base_uri": "https://localhost:8080/"
        },
        "id": "Mq4Tz2t1BB3X",
        "outputId": "1ed8cbd7-b0a6-421b-f2f4-64b259424465"
      },
      "execution_count": 5,
      "outputs": [
        {
          "output_type": "execute_result",
          "data": {
            "text/plain": [
              "(1000, 17)"
            ]
          },
          "metadata": {},
          "execution_count": 5
        }
      ]
    },
    {
      "cell_type": "code",
      "source": [
        "df.loc[:,'rank']= list(range(1,101))*10\n",
        "df[df['rank']==1]['bpm'].mean()"
      ],
      "metadata": {
        "colab": {
          "base_uri": "https://localhost:8080/"
        },
        "id": "VhGyyj7GD7Cf",
        "outputId": "50589b84-8181-497d-bde5-3818fafdc90b"
      },
      "execution_count": 6,
      "outputs": [
        {
          "output_type": "stream",
          "name": "stderr",
          "text": [
            "/usr/local/lib/python3.7/dist-packages/pandas/core/indexing.py:1667: SettingWithCopyWarning: \n",
            "A value is trying to be set on a copy of a slice from a DataFrame.\n",
            "Try using .loc[row_indexer,col_indexer] = value instead\n",
            "\n",
            "See the caveats in the documentation: https://pandas.pydata.org/pandas-docs/stable/user_guide/indexing.html#returning-a-view-versus-a-copy\n",
            "  self.obj[key] = value\n"
          ]
        },
        {
          "output_type": "execute_result",
          "data": {
            "text/plain": [
              "125.6"
            ]
          },
          "metadata": {},
          "execution_count": 6
        }
      ]
    },
    {
      "cell_type": "markdown",
      "source": [
        "Q2. 2015년도에 가장많은 top100곡을 올린 artist는 누구인가?"
      ],
      "metadata": {
        "id": "1AcfCK2-ChP9"
      }
    },
    {
      "cell_type": "code",
      "source": [
        "df.loc[df['top year']==2015]['artist'].value_counts()"
      ],
      "metadata": {
        "colab": {
          "base_uri": "https://localhost:8080/"
        },
        "id": "i5aiUaeuFHk4",
        "outputId": "f9770037-be88-4f15-8fc6-c6840a520289"
      },
      "execution_count": 7,
      "outputs": [
        {
          "output_type": "execute_result",
          "data": {
            "text/plain": [
              "Taylor Swift      4\n",
              "The Weeknd        4\n",
              "Selena Gomez      3\n",
              "Fetty Wap         3\n",
              "Avicii            2\n",
              "                 ..\n",
              "Mark Ronson       1\n",
              "Alessia Cara      1\n",
              "Meek Mill         1\n",
              "Mumford & Sons    1\n",
              "Zedd              1\n",
              "Name: artist, Length: 78, dtype: int64"
            ]
          },
          "metadata": {},
          "execution_count": 7
        }
      ]
    },
    {
      "cell_type": "code",
      "source": [
        "df.loc[df['top year']==2015]['artist'].value_counts().index[0]"
      ],
      "metadata": {
        "colab": {
          "base_uri": "https://localhost:8080/",
          "height": 35
        },
        "id": "diWszjVfBqq0",
        "outputId": "68d95cda-0e55-4960-cc1f-42d72242ea3b"
      },
      "execution_count": 8,
      "outputs": [
        {
          "output_type": "execute_result",
          "data": {
            "text/plain": [
              "'Taylor Swift'"
            ],
            "application/vnd.google.colaboratory.intrinsic+json": {
              "type": "string"
            }
          },
          "metadata": {},
          "execution_count": 8
        }
      ]
    },
    {
      "cell_type": "markdown",
      "source": [
        "Q3. 년도별 rank값이 1~10위 까지의 곡들 중 두번째로 많은 top genre는 무엇인가?"
      ],
      "metadata": {
        "id": "oEQv6vFZDJtR"
      }
    },
    {
      "cell_type": "code",
      "source": [
        "df[df['rank'].isin(range(1,11))]['top genre'].value_counts().index[1]"
      ],
      "metadata": {
        "colab": {
          "base_uri": "https://localhost:8080/",
          "height": 35
        },
        "id": "R8rHqSFdDAOn",
        "outputId": "cae7638b-4a81-4f6c-8edf-b4f28f6c6091"
      },
      "execution_count": 9,
      "outputs": [
        {
          "output_type": "execute_result",
          "data": {
            "text/plain": [
              "'atl hip hop'"
            ],
            "application/vnd.google.colaboratory.intrinsic+json": {
              "type": "string"
            }
          },
          "metadata": {},
          "execution_count": 9
        }
      ]
    },
    {
      "cell_type": "markdown",
      "source": [
        "Q4. 피처링의 경우 title에 표시된다. 피처링을 가장 많이 해준 가수는 누구인가?"
      ],
      "metadata": {
        "id": "KIRCxzlLGDTP"
      }
    },
    {
      "cell_type": "code",
      "source": [
        "temp = df[df['title'].str.contains('feat.')]\n",
        "temp['title'] = temp['title'].apply(lambda x: x.split('feat.')[1])\n",
        "temp['title'].apply(lambda x: x.split(')')[0].strip()).value_counts().index[0]"
      ],
      "metadata": {
        "colab": {
          "base_uri": "https://localhost:8080/",
          "height": 160
        },
        "id": "c4IIom2yEpW4",
        "outputId": "f72831e5-6548-454f-dc86-9e1145601e1e"
      },
      "execution_count": 10,
      "outputs": [
        {
          "output_type": "stream",
          "name": "stderr",
          "text": [
            "/usr/local/lib/python3.7/dist-packages/ipykernel_launcher.py:2: SettingWithCopyWarning: \n",
            "A value is trying to be set on a copy of a slice from a DataFrame.\n",
            "Try using .loc[row_indexer,col_indexer] = value instead\n",
            "\n",
            "See the caveats in the documentation: https://pandas.pydata.org/pandas-docs/stable/user_guide/indexing.html#returning-a-view-versus-a-copy\n",
            "  \n"
          ]
        },
        {
          "output_type": "execute_result",
          "data": {
            "text/plain": [
              "'Bruno Mars'"
            ],
            "application/vnd.google.colaboratory.intrinsic+json": {
              "type": "string"
            }
          },
          "metadata": {},
          "execution_count": 10
        }
      ]
    },
    {
      "cell_type": "markdown",
      "source": [
        "Q5. top year 년도를 기준으로 발매일(year released)과 top100에 진입한 일자 (top year)가 다른 곡의 숫자를 count 했을때 가장 많은 년도는?"
      ],
      "metadata": {
        "id": "1GrLM4SaIjrI"
      }
    },
    {
      "cell_type": "code",
      "source": [
        "int(df.loc[df['top year']!= df['year released']]['top year'].value_counts().index[0])"
      ],
      "metadata": {
        "colab": {
          "base_uri": "https://localhost:8080/"
        },
        "id": "41cWI9IiIg-S",
        "outputId": "c949f07e-3913-4ae3-aac5-2f6106feba93"
      },
      "execution_count": 11,
      "outputs": [
        {
          "output_type": "execute_result",
          "data": {
            "text/plain": [
              "2016"
            ]
          },
          "metadata": {},
          "execution_count": 11
        }
      ]
    },
    {
      "cell_type": "markdown",
      "source": [
        "Q6. artist 컬럼의 값에 대소문자 상관없이 q 단어가 들어가는 아티스트는 몇명인가?"
      ],
      "metadata": {
        "id": "N-dHGPmcJcDA"
      }
    },
    {
      "cell_type": "code",
      "source": [
        "df.loc[df['artist'].str.lower().str.contains('q')]['artist'].nunique()"
      ],
      "metadata": {
        "colab": {
          "base_uri": "https://localhost:8080/"
        },
        "id": "Vz8_NMWDJH36",
        "outputId": "bd4eaa1c-be27-4141-c23e-139eb8b4eee2"
      },
      "execution_count": 12,
      "outputs": [
        {
          "output_type": "execute_result",
          "data": {
            "text/plain": [
              "6"
            ]
          },
          "metadata": {},
          "execution_count": 12
        }
      ]
    },
    {
      "cell_type": "markdown",
      "source": [
        "Q7. 년도 상관없이 전체데이터에서 1-50위와 51-100위간의 dur 컬럼의 평균값의 차이는?"
      ],
      "metadata": {
        "id": "-YyJfOlbKhdj"
      }
    },
    {
      "cell_type": "code",
      "source": [
        "mean1 = df[df['rank'].isin(range(1,51))]['dur'].mean()\n",
        "mean2 = df[df['rank'].isin(range(51,101))]['dur'].mean()\n",
        "\n",
        "Ans = abs(mean1-mean2)\n",
        "Ans"
      ],
      "metadata": {
        "colab": {
          "base_uri": "https://localhost:8080/"
        },
        "id": "0FSdTtrlGGLb",
        "outputId": "b71e916f-a111-45b1-93e7-b160b9b569df"
      },
      "execution_count": 13,
      "outputs": [
        {
          "output_type": "execute_result",
          "data": {
            "text/plain": [
              "0.896000000000015"
            ]
          },
          "metadata": {},
          "execution_count": 13
        }
      ]
    },
    {
      "cell_type": "markdown",
      "source": [
        "Q8. title을 띄어쓰기 단어로 구분 했을때 가장 많이 나온 단어는 무엇인가? (대소문자 구분 x)\n",
        "\n"
      ],
      "metadata": {
        "id": "ApDiUVYFLAK2"
      }
    },
    {
      "cell_type": "code",
      "source": [
        "df['title'].str.split('\\(feat').str[0].str.split().explode().str.lower().value_counts().index[0]\n"
      ],
      "metadata": {
        "colab": {
          "base_uri": "https://localhost:8080/",
          "height": 35
        },
        "id": "DZ9A7HxiHcx9",
        "outputId": "593f2ca5-b489-4174-c83a-78652e6f29aa"
      },
      "execution_count": 14,
      "outputs": [
        {
          "output_type": "execute_result",
          "data": {
            "text/plain": [
              "'the'"
            ],
            "application/vnd.google.colaboratory.intrinsic+json": {
              "type": "string"
            }
          },
          "metadata": {},
          "execution_count": 14
        }
      ]
    },
    {
      "cell_type": "markdown",
      "source": [
        "Q9. 년도별 nrgy값의 평균값을 구할때 최대 평균값과 최소 평균값의 차이를 구하여라"
      ],
      "metadata": {
        "id": "nD3kd8q4LWRw"
      }
    },
    {
      "cell_type": "code",
      "source": [
        "Ans = df.groupby('top year')['nrgy'].mean().sort_values().values\n",
        "Ans[-1] - Ans[0]"
      ],
      "metadata": {
        "colab": {
          "base_uri": "https://localhost:8080/"
        },
        "id": "z_-0sB9SLDKd",
        "outputId": "5dd2ef46-a685-4af7-8e15-15225d81f748"
      },
      "execution_count": 15,
      "outputs": [
        {
          "output_type": "execute_result",
          "data": {
            "text/plain": [
              "13.860000000000007"
            ]
          },
          "metadata": {},
          "execution_count": 15
        }
      ]
    },
    {
      "cell_type": "markdown",
      "source": [
        "Q. artist중 artist type 타입을 여러개 가지고 있는 artist는 누구인가"
      ],
      "metadata": {
        "id": "AoP7HxxRL1K-"
      }
    },
    {
      "cell_type": "code",
      "source": [
        "df[['artist','artist type']].value_counts().reset_index()['artist'].value_counts().index[0]"
      ],
      "metadata": {
        "colab": {
          "base_uri": "https://localhost:8080/",
          "height": 35
        },
        "id": "ojfw0mQ5Lal_",
        "outputId": "f702066a-41c7-4ddd-c47c-b412514df76a"
      },
      "execution_count": 16,
      "outputs": [
        {
          "output_type": "execute_result",
          "data": {
            "text/plain": [
              "'Rudimental'"
            ],
            "application/vnd.google.colaboratory.intrinsic+json": {
              "type": "string"
            }
          },
          "metadata": {},
          "execution_count": 16
        }
      ]
    },
    {
      "cell_type": "code",
      "source": [
        "result = df[['artist','artist type']].value_counts().reset_index().artist.value_counts().index[0]\n",
        "print(result)"
      ],
      "metadata": {
        "id": "4Au83qViL5iv",
        "colab": {
          "base_uri": "https://localhost:8080/"
        },
        "outputId": "dbd9357a-cead-4149-8292-4bf45979f26c"
      },
      "execution_count": 17,
      "outputs": [
        {
          "output_type": "stream",
          "name": "stdout",
          "text": [
            "Rudimental\n"
          ]
        }
      ]
    },
    {
      "cell_type": "markdown",
      "source": [
        "## 작업 2유형"
      ],
      "metadata": {
        "id": "ZagEGruROcQ0"
      }
    },
    {
      "cell_type": "markdown",
      "source": [
        "- 데이터 설명 : 센서데이터로 동작 유형 분류 (종속변수 pose : 0 ,1 구분)\n",
        "\n",
        "- x_train: https://raw.githubusercontent.com/Datamanim/datarepo/main/muscle/x_train.csv\n",
        "- y_train: https://raw.githubusercontent.com/Datamanim/datarepo/main/muscle/y_train.csv\n",
        "- x_test: https://raw.githubusercontent.com/Datamanim/datarepo/main/muscle/x_test.csv\n",
        "출처(참고, 데이터 수정)\n",
        "\n"
      ],
      "metadata": {
        "id": "tC6VquYNOjoj"
      }
    },
    {
      "cell_type": "code",
      "source": [
        "X_train = pd.read_csv('https://raw.githubusercontent.com/Datamanim/datarepo/main/muscle/x_train.csv')\n",
        "y_train = pd.read_csv('https://raw.githubusercontent.com/Datamanim/datarepo/main/muscle/y_train.csv')\n",
        "X_test = pd.read_csv('https://raw.githubusercontent.com/Datamanim/datarepo/main/muscle/x_test.csv')\n",
        "\n"
      ],
      "metadata": {
        "id": "p6Mg8YiNOi7W"
      },
      "execution_count": 18,
      "outputs": []
    },
    {
      "cell_type": "code",
      "source": [
        "display(X_train.head(3))\n",
        "print(X_train.shape)\n",
        "\n",
        "display(y_train.head(3))\n",
        "print(y_train.shape)\n",
        "\n",
        "display(X_test.head(3))\n",
        "print(X_test.shape)"
      ],
      "metadata": {
        "colab": {
          "base_uri": "https://localhost:8080/",
          "height": 571
        },
        "id": "lw3Ax_iaPJcp",
        "outputId": "e125ca0f-fdf6-4c42-9071-857ed3680c39"
      },
      "execution_count": 19,
      "outputs": [
        {
          "output_type": "display_data",
          "data": {
            "text/plain": [
              "   ID  motion_0  motion_1  motion_2  motion_3  motion_4  motion_5  motion_6  \\\n",
              "0   0       1.0      -2.0      -1.0       4.0      -5.0      -4.0       1.0   \n",
              "1   2      20.0       0.0       0.0       1.0       5.0       6.0     -52.0   \n",
              "2   4       1.0      -1.0       1.0       4.0      -5.0      -8.0       1.0   \n",
              "\n",
              "   motion_7  motion_8  ...  motion_54  motion_55  motion_56  motion_57  \\\n",
              "0       0.0     -15.0  ...        0.0       -1.0      -13.0       -3.0   \n",
              "1      18.0      15.0  ...      -70.0      -55.0      -38.0      -14.0   \n",
              "2      -3.0     -14.0  ...        1.0       12.0      -25.0        0.0   \n",
              "\n",
              "   motion_58  motion_59  motion_60  motion_61  motion_62  motion_63  \n",
              "0        1.0       -1.0      -32.0      -22.0       -2.0       -3.0  \n",
              "1      -12.0       -8.0      -34.0      -63.0      -87.0      -77.0  \n",
              "2        0.0        3.0        2.0      -27.0        1.0        0.0  \n",
              "\n",
              "[3 rows x 65 columns]"
            ],
            "text/html": [
              "\n",
              "  <div id=\"df-4cc15f37-7ff5-44b1-bf83-e12d739c68be\">\n",
              "    <div class=\"colab-df-container\">\n",
              "      <div>\n",
              "<style scoped>\n",
              "    .dataframe tbody tr th:only-of-type {\n",
              "        vertical-align: middle;\n",
              "    }\n",
              "\n",
              "    .dataframe tbody tr th {\n",
              "        vertical-align: top;\n",
              "    }\n",
              "\n",
              "    .dataframe thead th {\n",
              "        text-align: right;\n",
              "    }\n",
              "</style>\n",
              "<table border=\"1\" class=\"dataframe\">\n",
              "  <thead>\n",
              "    <tr style=\"text-align: right;\">\n",
              "      <th></th>\n",
              "      <th>ID</th>\n",
              "      <th>motion_0</th>\n",
              "      <th>motion_1</th>\n",
              "      <th>motion_2</th>\n",
              "      <th>motion_3</th>\n",
              "      <th>motion_4</th>\n",
              "      <th>motion_5</th>\n",
              "      <th>motion_6</th>\n",
              "      <th>motion_7</th>\n",
              "      <th>motion_8</th>\n",
              "      <th>...</th>\n",
              "      <th>motion_54</th>\n",
              "      <th>motion_55</th>\n",
              "      <th>motion_56</th>\n",
              "      <th>motion_57</th>\n",
              "      <th>motion_58</th>\n",
              "      <th>motion_59</th>\n",
              "      <th>motion_60</th>\n",
              "      <th>motion_61</th>\n",
              "      <th>motion_62</th>\n",
              "      <th>motion_63</th>\n",
              "    </tr>\n",
              "  </thead>\n",
              "  <tbody>\n",
              "    <tr>\n",
              "      <th>0</th>\n",
              "      <td>0</td>\n",
              "      <td>1.0</td>\n",
              "      <td>-2.0</td>\n",
              "      <td>-1.0</td>\n",
              "      <td>4.0</td>\n",
              "      <td>-5.0</td>\n",
              "      <td>-4.0</td>\n",
              "      <td>1.0</td>\n",
              "      <td>0.0</td>\n",
              "      <td>-15.0</td>\n",
              "      <td>...</td>\n",
              "      <td>0.0</td>\n",
              "      <td>-1.0</td>\n",
              "      <td>-13.0</td>\n",
              "      <td>-3.0</td>\n",
              "      <td>1.0</td>\n",
              "      <td>-1.0</td>\n",
              "      <td>-32.0</td>\n",
              "      <td>-22.0</td>\n",
              "      <td>-2.0</td>\n",
              "      <td>-3.0</td>\n",
              "    </tr>\n",
              "    <tr>\n",
              "      <th>1</th>\n",
              "      <td>2</td>\n",
              "      <td>20.0</td>\n",
              "      <td>0.0</td>\n",
              "      <td>0.0</td>\n",
              "      <td>1.0</td>\n",
              "      <td>5.0</td>\n",
              "      <td>6.0</td>\n",
              "      <td>-52.0</td>\n",
              "      <td>18.0</td>\n",
              "      <td>15.0</td>\n",
              "      <td>...</td>\n",
              "      <td>-70.0</td>\n",
              "      <td>-55.0</td>\n",
              "      <td>-38.0</td>\n",
              "      <td>-14.0</td>\n",
              "      <td>-12.0</td>\n",
              "      <td>-8.0</td>\n",
              "      <td>-34.0</td>\n",
              "      <td>-63.0</td>\n",
              "      <td>-87.0</td>\n",
              "      <td>-77.0</td>\n",
              "    </tr>\n",
              "    <tr>\n",
              "      <th>2</th>\n",
              "      <td>4</td>\n",
              "      <td>1.0</td>\n",
              "      <td>-1.0</td>\n",
              "      <td>1.0</td>\n",
              "      <td>4.0</td>\n",
              "      <td>-5.0</td>\n",
              "      <td>-8.0</td>\n",
              "      <td>1.0</td>\n",
              "      <td>-3.0</td>\n",
              "      <td>-14.0</td>\n",
              "      <td>...</td>\n",
              "      <td>1.0</td>\n",
              "      <td>12.0</td>\n",
              "      <td>-25.0</td>\n",
              "      <td>0.0</td>\n",
              "      <td>0.0</td>\n",
              "      <td>3.0</td>\n",
              "      <td>2.0</td>\n",
              "      <td>-27.0</td>\n",
              "      <td>1.0</td>\n",
              "      <td>0.0</td>\n",
              "    </tr>\n",
              "  </tbody>\n",
              "</table>\n",
              "<p>3 rows × 65 columns</p>\n",
              "</div>\n",
              "      <button class=\"colab-df-convert\" onclick=\"convertToInteractive('df-4cc15f37-7ff5-44b1-bf83-e12d739c68be')\"\n",
              "              title=\"Convert this dataframe to an interactive table.\"\n",
              "              style=\"display:none;\">\n",
              "        \n",
              "  <svg xmlns=\"http://www.w3.org/2000/svg\" height=\"24px\"viewBox=\"0 0 24 24\"\n",
              "       width=\"24px\">\n",
              "    <path d=\"M0 0h24v24H0V0z\" fill=\"none\"/>\n",
              "    <path d=\"M18.56 5.44l.94 2.06.94-2.06 2.06-.94-2.06-.94-.94-2.06-.94 2.06-2.06.94zm-11 1L8.5 8.5l.94-2.06 2.06-.94-2.06-.94L8.5 2.5l-.94 2.06-2.06.94zm10 10l.94 2.06.94-2.06 2.06-.94-2.06-.94-.94-2.06-.94 2.06-2.06.94z\"/><path d=\"M17.41 7.96l-1.37-1.37c-.4-.4-.92-.59-1.43-.59-.52 0-1.04.2-1.43.59L10.3 9.45l-7.72 7.72c-.78.78-.78 2.05 0 2.83L4 21.41c.39.39.9.59 1.41.59.51 0 1.02-.2 1.41-.59l7.78-7.78 2.81-2.81c.8-.78.8-2.07 0-2.86zM5.41 20L4 18.59l7.72-7.72 1.47 1.35L5.41 20z\"/>\n",
              "  </svg>\n",
              "      </button>\n",
              "      \n",
              "  <style>\n",
              "    .colab-df-container {\n",
              "      display:flex;\n",
              "      flex-wrap:wrap;\n",
              "      gap: 12px;\n",
              "    }\n",
              "\n",
              "    .colab-df-convert {\n",
              "      background-color: #E8F0FE;\n",
              "      border: none;\n",
              "      border-radius: 50%;\n",
              "      cursor: pointer;\n",
              "      display: none;\n",
              "      fill: #1967D2;\n",
              "      height: 32px;\n",
              "      padding: 0 0 0 0;\n",
              "      width: 32px;\n",
              "    }\n",
              "\n",
              "    .colab-df-convert:hover {\n",
              "      background-color: #E2EBFA;\n",
              "      box-shadow: 0px 1px 2px rgba(60, 64, 67, 0.3), 0px 1px 3px 1px rgba(60, 64, 67, 0.15);\n",
              "      fill: #174EA6;\n",
              "    }\n",
              "\n",
              "    [theme=dark] .colab-df-convert {\n",
              "      background-color: #3B4455;\n",
              "      fill: #D2E3FC;\n",
              "    }\n",
              "\n",
              "    [theme=dark] .colab-df-convert:hover {\n",
              "      background-color: #434B5C;\n",
              "      box-shadow: 0px 1px 3px 1px rgba(0, 0, 0, 0.15);\n",
              "      filter: drop-shadow(0px 1px 2px rgba(0, 0, 0, 0.3));\n",
              "      fill: #FFFFFF;\n",
              "    }\n",
              "  </style>\n",
              "\n",
              "      <script>\n",
              "        const buttonEl =\n",
              "          document.querySelector('#df-4cc15f37-7ff5-44b1-bf83-e12d739c68be button.colab-df-convert');\n",
              "        buttonEl.style.display =\n",
              "          google.colab.kernel.accessAllowed ? 'block' : 'none';\n",
              "\n",
              "        async function convertToInteractive(key) {\n",
              "          const element = document.querySelector('#df-4cc15f37-7ff5-44b1-bf83-e12d739c68be');\n",
              "          const dataTable =\n",
              "            await google.colab.kernel.invokeFunction('convertToInteractive',\n",
              "                                                     [key], {});\n",
              "          if (!dataTable) return;\n",
              "\n",
              "          const docLinkHtml = 'Like what you see? Visit the ' +\n",
              "            '<a target=\"_blank\" href=https://colab.research.google.com/notebooks/data_table.ipynb>data table notebook</a>'\n",
              "            + ' to learn more about interactive tables.';\n",
              "          element.innerHTML = '';\n",
              "          dataTable['output_type'] = 'display_data';\n",
              "          await google.colab.output.renderOutput(dataTable, element);\n",
              "          const docLink = document.createElement('div');\n",
              "          docLink.innerHTML = docLinkHtml;\n",
              "          element.appendChild(docLink);\n",
              "        }\n",
              "      </script>\n",
              "    </div>\n",
              "  </div>\n",
              "  "
            ]
          },
          "metadata": {}
        },
        {
          "output_type": "stream",
          "name": "stdout",
          "text": [
            "(4650, 65)\n"
          ]
        },
        {
          "output_type": "display_data",
          "data": {
            "text/plain": [
              "   ID  pose\n",
              "0   0     1\n",
              "1   2     0\n",
              "2   4     1"
            ],
            "text/html": [
              "\n",
              "  <div id=\"df-6937df09-4f87-40fd-a40d-adae051dce36\">\n",
              "    <div class=\"colab-df-container\">\n",
              "      <div>\n",
              "<style scoped>\n",
              "    .dataframe tbody tr th:only-of-type {\n",
              "        vertical-align: middle;\n",
              "    }\n",
              "\n",
              "    .dataframe tbody tr th {\n",
              "        vertical-align: top;\n",
              "    }\n",
              "\n",
              "    .dataframe thead th {\n",
              "        text-align: right;\n",
              "    }\n",
              "</style>\n",
              "<table border=\"1\" class=\"dataframe\">\n",
              "  <thead>\n",
              "    <tr style=\"text-align: right;\">\n",
              "      <th></th>\n",
              "      <th>ID</th>\n",
              "      <th>pose</th>\n",
              "    </tr>\n",
              "  </thead>\n",
              "  <tbody>\n",
              "    <tr>\n",
              "      <th>0</th>\n",
              "      <td>0</td>\n",
              "      <td>1</td>\n",
              "    </tr>\n",
              "    <tr>\n",
              "      <th>1</th>\n",
              "      <td>2</td>\n",
              "      <td>0</td>\n",
              "    </tr>\n",
              "    <tr>\n",
              "      <th>2</th>\n",
              "      <td>4</td>\n",
              "      <td>1</td>\n",
              "    </tr>\n",
              "  </tbody>\n",
              "</table>\n",
              "</div>\n",
              "      <button class=\"colab-df-convert\" onclick=\"convertToInteractive('df-6937df09-4f87-40fd-a40d-adae051dce36')\"\n",
              "              title=\"Convert this dataframe to an interactive table.\"\n",
              "              style=\"display:none;\">\n",
              "        \n",
              "  <svg xmlns=\"http://www.w3.org/2000/svg\" height=\"24px\"viewBox=\"0 0 24 24\"\n",
              "       width=\"24px\">\n",
              "    <path d=\"M0 0h24v24H0V0z\" fill=\"none\"/>\n",
              "    <path d=\"M18.56 5.44l.94 2.06.94-2.06 2.06-.94-2.06-.94-.94-2.06-.94 2.06-2.06.94zm-11 1L8.5 8.5l.94-2.06 2.06-.94-2.06-.94L8.5 2.5l-.94 2.06-2.06.94zm10 10l.94 2.06.94-2.06 2.06-.94-2.06-.94-.94-2.06-.94 2.06-2.06.94z\"/><path d=\"M17.41 7.96l-1.37-1.37c-.4-.4-.92-.59-1.43-.59-.52 0-1.04.2-1.43.59L10.3 9.45l-7.72 7.72c-.78.78-.78 2.05 0 2.83L4 21.41c.39.39.9.59 1.41.59.51 0 1.02-.2 1.41-.59l7.78-7.78 2.81-2.81c.8-.78.8-2.07 0-2.86zM5.41 20L4 18.59l7.72-7.72 1.47 1.35L5.41 20z\"/>\n",
              "  </svg>\n",
              "      </button>\n",
              "      \n",
              "  <style>\n",
              "    .colab-df-container {\n",
              "      display:flex;\n",
              "      flex-wrap:wrap;\n",
              "      gap: 12px;\n",
              "    }\n",
              "\n",
              "    .colab-df-convert {\n",
              "      background-color: #E8F0FE;\n",
              "      border: none;\n",
              "      border-radius: 50%;\n",
              "      cursor: pointer;\n",
              "      display: none;\n",
              "      fill: #1967D2;\n",
              "      height: 32px;\n",
              "      padding: 0 0 0 0;\n",
              "      width: 32px;\n",
              "    }\n",
              "\n",
              "    .colab-df-convert:hover {\n",
              "      background-color: #E2EBFA;\n",
              "      box-shadow: 0px 1px 2px rgba(60, 64, 67, 0.3), 0px 1px 3px 1px rgba(60, 64, 67, 0.15);\n",
              "      fill: #174EA6;\n",
              "    }\n",
              "\n",
              "    [theme=dark] .colab-df-convert {\n",
              "      background-color: #3B4455;\n",
              "      fill: #D2E3FC;\n",
              "    }\n",
              "\n",
              "    [theme=dark] .colab-df-convert:hover {\n",
              "      background-color: #434B5C;\n",
              "      box-shadow: 0px 1px 3px 1px rgba(0, 0, 0, 0.15);\n",
              "      filter: drop-shadow(0px 1px 2px rgba(0, 0, 0, 0.3));\n",
              "      fill: #FFFFFF;\n",
              "    }\n",
              "  </style>\n",
              "\n",
              "      <script>\n",
              "        const buttonEl =\n",
              "          document.querySelector('#df-6937df09-4f87-40fd-a40d-adae051dce36 button.colab-df-convert');\n",
              "        buttonEl.style.display =\n",
              "          google.colab.kernel.accessAllowed ? 'block' : 'none';\n",
              "\n",
              "        async function convertToInteractive(key) {\n",
              "          const element = document.querySelector('#df-6937df09-4f87-40fd-a40d-adae051dce36');\n",
              "          const dataTable =\n",
              "            await google.colab.kernel.invokeFunction('convertToInteractive',\n",
              "                                                     [key], {});\n",
              "          if (!dataTable) return;\n",
              "\n",
              "          const docLinkHtml = 'Like what you see? Visit the ' +\n",
              "            '<a target=\"_blank\" href=https://colab.research.google.com/notebooks/data_table.ipynb>data table notebook</a>'\n",
              "            + ' to learn more about interactive tables.';\n",
              "          element.innerHTML = '';\n",
              "          dataTable['output_type'] = 'display_data';\n",
              "          await google.colab.output.renderOutput(dataTable, element);\n",
              "          const docLink = document.createElement('div');\n",
              "          docLink.innerHTML = docLinkHtml;\n",
              "          element.appendChild(docLink);\n",
              "        }\n",
              "      </script>\n",
              "    </div>\n",
              "  </div>\n",
              "  "
            ]
          },
          "metadata": {}
        },
        {
          "output_type": "stream",
          "name": "stdout",
          "text": [
            "(4650, 2)\n"
          ]
        },
        {
          "output_type": "display_data",
          "data": {
            "text/plain": [
              "   ID  motion_0  motion_1  motion_2  motion_3  motion_4  motion_5  motion_6  \\\n",
              "0   1     -12.0      -7.0       3.0       6.0     -21.0     -28.0       1.0   \n",
              "1   3      -9.0     -16.0      -2.0      -1.0      39.0      17.0       3.0   \n",
              "2   8      -4.0      -1.0      -1.0       1.0       3.0      -1.0       4.0   \n",
              "\n",
              "   motion_7  motion_8  ...  motion_54  motion_55  motion_56  motion_57  \\\n",
              "0       6.0     -18.0  ...        2.0       20.0      -25.0       -2.0   \n",
              "1       1.0      -9.0  ...        0.0        1.0       -1.0       -5.0   \n",
              "2       7.0       3.0  ...       -4.0       -8.0        5.0        2.0   \n",
              "\n",
              "   motion_58  motion_59  motion_60  motion_61  motion_62  motion_63  \n",
              "0        1.0        0.0       12.0       -2.0       -1.0       -4.0  \n",
              "1       -4.0       -7.0       56.0       28.0        1.0        6.0  \n",
              "2        0.0        2.0       13.0       -3.0        0.0        4.0  \n",
              "\n",
              "[3 rows x 65 columns]"
            ],
            "text/html": [
              "\n",
              "  <div id=\"df-685f57a8-f97b-4b3d-8a6f-65fcd482ac46\">\n",
              "    <div class=\"colab-df-container\">\n",
              "      <div>\n",
              "<style scoped>\n",
              "    .dataframe tbody tr th:only-of-type {\n",
              "        vertical-align: middle;\n",
              "    }\n",
              "\n",
              "    .dataframe tbody tr th {\n",
              "        vertical-align: top;\n",
              "    }\n",
              "\n",
              "    .dataframe thead th {\n",
              "        text-align: right;\n",
              "    }\n",
              "</style>\n",
              "<table border=\"1\" class=\"dataframe\">\n",
              "  <thead>\n",
              "    <tr style=\"text-align: right;\">\n",
              "      <th></th>\n",
              "      <th>ID</th>\n",
              "      <th>motion_0</th>\n",
              "      <th>motion_1</th>\n",
              "      <th>motion_2</th>\n",
              "      <th>motion_3</th>\n",
              "      <th>motion_4</th>\n",
              "      <th>motion_5</th>\n",
              "      <th>motion_6</th>\n",
              "      <th>motion_7</th>\n",
              "      <th>motion_8</th>\n",
              "      <th>...</th>\n",
              "      <th>motion_54</th>\n",
              "      <th>motion_55</th>\n",
              "      <th>motion_56</th>\n",
              "      <th>motion_57</th>\n",
              "      <th>motion_58</th>\n",
              "      <th>motion_59</th>\n",
              "      <th>motion_60</th>\n",
              "      <th>motion_61</th>\n",
              "      <th>motion_62</th>\n",
              "      <th>motion_63</th>\n",
              "    </tr>\n",
              "  </thead>\n",
              "  <tbody>\n",
              "    <tr>\n",
              "      <th>0</th>\n",
              "      <td>1</td>\n",
              "      <td>-12.0</td>\n",
              "      <td>-7.0</td>\n",
              "      <td>3.0</td>\n",
              "      <td>6.0</td>\n",
              "      <td>-21.0</td>\n",
              "      <td>-28.0</td>\n",
              "      <td>1.0</td>\n",
              "      <td>6.0</td>\n",
              "      <td>-18.0</td>\n",
              "      <td>...</td>\n",
              "      <td>2.0</td>\n",
              "      <td>20.0</td>\n",
              "      <td>-25.0</td>\n",
              "      <td>-2.0</td>\n",
              "      <td>1.0</td>\n",
              "      <td>0.0</td>\n",
              "      <td>12.0</td>\n",
              "      <td>-2.0</td>\n",
              "      <td>-1.0</td>\n",
              "      <td>-4.0</td>\n",
              "    </tr>\n",
              "    <tr>\n",
              "      <th>1</th>\n",
              "      <td>3</td>\n",
              "      <td>-9.0</td>\n",
              "      <td>-16.0</td>\n",
              "      <td>-2.0</td>\n",
              "      <td>-1.0</td>\n",
              "      <td>39.0</td>\n",
              "      <td>17.0</td>\n",
              "      <td>3.0</td>\n",
              "      <td>1.0</td>\n",
              "      <td>-9.0</td>\n",
              "      <td>...</td>\n",
              "      <td>0.0</td>\n",
              "      <td>1.0</td>\n",
              "      <td>-1.0</td>\n",
              "      <td>-5.0</td>\n",
              "      <td>-4.0</td>\n",
              "      <td>-7.0</td>\n",
              "      <td>56.0</td>\n",
              "      <td>28.0</td>\n",
              "      <td>1.0</td>\n",
              "      <td>6.0</td>\n",
              "    </tr>\n",
              "    <tr>\n",
              "      <th>2</th>\n",
              "      <td>8</td>\n",
              "      <td>-4.0</td>\n",
              "      <td>-1.0</td>\n",
              "      <td>-1.0</td>\n",
              "      <td>1.0</td>\n",
              "      <td>3.0</td>\n",
              "      <td>-1.0</td>\n",
              "      <td>4.0</td>\n",
              "      <td>7.0</td>\n",
              "      <td>3.0</td>\n",
              "      <td>...</td>\n",
              "      <td>-4.0</td>\n",
              "      <td>-8.0</td>\n",
              "      <td>5.0</td>\n",
              "      <td>2.0</td>\n",
              "      <td>0.0</td>\n",
              "      <td>2.0</td>\n",
              "      <td>13.0</td>\n",
              "      <td>-3.0</td>\n",
              "      <td>0.0</td>\n",
              "      <td>4.0</td>\n",
              "    </tr>\n",
              "  </tbody>\n",
              "</table>\n",
              "<p>3 rows × 65 columns</p>\n",
              "</div>\n",
              "      <button class=\"colab-df-convert\" onclick=\"convertToInteractive('df-685f57a8-f97b-4b3d-8a6f-65fcd482ac46')\"\n",
              "              title=\"Convert this dataframe to an interactive table.\"\n",
              "              style=\"display:none;\">\n",
              "        \n",
              "  <svg xmlns=\"http://www.w3.org/2000/svg\" height=\"24px\"viewBox=\"0 0 24 24\"\n",
              "       width=\"24px\">\n",
              "    <path d=\"M0 0h24v24H0V0z\" fill=\"none\"/>\n",
              "    <path d=\"M18.56 5.44l.94 2.06.94-2.06 2.06-.94-2.06-.94-.94-2.06-.94 2.06-2.06.94zm-11 1L8.5 8.5l.94-2.06 2.06-.94-2.06-.94L8.5 2.5l-.94 2.06-2.06.94zm10 10l.94 2.06.94-2.06 2.06-.94-2.06-.94-.94-2.06-.94 2.06-2.06.94z\"/><path d=\"M17.41 7.96l-1.37-1.37c-.4-.4-.92-.59-1.43-.59-.52 0-1.04.2-1.43.59L10.3 9.45l-7.72 7.72c-.78.78-.78 2.05 0 2.83L4 21.41c.39.39.9.59 1.41.59.51 0 1.02-.2 1.41-.59l7.78-7.78 2.81-2.81c.8-.78.8-2.07 0-2.86zM5.41 20L4 18.59l7.72-7.72 1.47 1.35L5.41 20z\"/>\n",
              "  </svg>\n",
              "      </button>\n",
              "      \n",
              "  <style>\n",
              "    .colab-df-container {\n",
              "      display:flex;\n",
              "      flex-wrap:wrap;\n",
              "      gap: 12px;\n",
              "    }\n",
              "\n",
              "    .colab-df-convert {\n",
              "      background-color: #E8F0FE;\n",
              "      border: none;\n",
              "      border-radius: 50%;\n",
              "      cursor: pointer;\n",
              "      display: none;\n",
              "      fill: #1967D2;\n",
              "      height: 32px;\n",
              "      padding: 0 0 0 0;\n",
              "      width: 32px;\n",
              "    }\n",
              "\n",
              "    .colab-df-convert:hover {\n",
              "      background-color: #E2EBFA;\n",
              "      box-shadow: 0px 1px 2px rgba(60, 64, 67, 0.3), 0px 1px 3px 1px rgba(60, 64, 67, 0.15);\n",
              "      fill: #174EA6;\n",
              "    }\n",
              "\n",
              "    [theme=dark] .colab-df-convert {\n",
              "      background-color: #3B4455;\n",
              "      fill: #D2E3FC;\n",
              "    }\n",
              "\n",
              "    [theme=dark] .colab-df-convert:hover {\n",
              "      background-color: #434B5C;\n",
              "      box-shadow: 0px 1px 3px 1px rgba(0, 0, 0, 0.15);\n",
              "      filter: drop-shadow(0px 1px 2px rgba(0, 0, 0, 0.3));\n",
              "      fill: #FFFFFF;\n",
              "    }\n",
              "  </style>\n",
              "\n",
              "      <script>\n",
              "        const buttonEl =\n",
              "          document.querySelector('#df-685f57a8-f97b-4b3d-8a6f-65fcd482ac46 button.colab-df-convert');\n",
              "        buttonEl.style.display =\n",
              "          google.colab.kernel.accessAllowed ? 'block' : 'none';\n",
              "\n",
              "        async function convertToInteractive(key) {\n",
              "          const element = document.querySelector('#df-685f57a8-f97b-4b3d-8a6f-65fcd482ac46');\n",
              "          const dataTable =\n",
              "            await google.colab.kernel.invokeFunction('convertToInteractive',\n",
              "                                                     [key], {});\n",
              "          if (!dataTable) return;\n",
              "\n",
              "          const docLinkHtml = 'Like what you see? Visit the ' +\n",
              "            '<a target=\"_blank\" href=https://colab.research.google.com/notebooks/data_table.ipynb>data table notebook</a>'\n",
              "            + ' to learn more about interactive tables.';\n",
              "          element.innerHTML = '';\n",
              "          dataTable['output_type'] = 'display_data';\n",
              "          await google.colab.output.renderOutput(dataTable, element);\n",
              "          const docLink = document.createElement('div');\n",
              "          docLink.innerHTML = docLinkHtml;\n",
              "          element.appendChild(docLink);\n",
              "        }\n",
              "      </script>\n",
              "    </div>\n",
              "  </div>\n",
              "  "
            ]
          },
          "metadata": {}
        },
        {
          "output_type": "stream",
          "name": "stdout",
          "text": [
            "(1163, 65)\n"
          ]
        }
      ]
    },
    {
      "cell_type": "code",
      "source": [
        "X_train.select_dtypes(include='number')"
      ],
      "metadata": {
        "colab": {
          "base_uri": "https://localhost:8080/",
          "height": 488
        },
        "id": "EyZOHubmP2Zx",
        "outputId": "021b1736-e08c-4463-ab85-ab6f9d6d4d22"
      },
      "execution_count": 20,
      "outputs": [
        {
          "output_type": "execute_result",
          "data": {
            "text/plain": [
              "        ID  motion_0  motion_1  motion_2  motion_3  motion_4  motion_5  \\\n",
              "0        0       1.0      -2.0      -1.0       4.0      -5.0      -4.0   \n",
              "1        2      20.0       0.0       0.0       1.0       5.0       6.0   \n",
              "2        4       1.0      -1.0       1.0       4.0      -5.0      -8.0   \n",
              "3        5      13.0       2.0       1.0      -3.0       1.0       3.0   \n",
              "4        6      -2.0      -7.0      -4.0      -8.0      16.0      44.0   \n",
              "...    ...       ...       ...       ...       ...       ...       ...   \n",
              "4645  5806       3.0      -3.0      -4.0      -9.0     -10.0       7.0   \n",
              "4646  5807      71.0      19.0     -18.0     -39.0     -26.0     -29.0   \n",
              "4647  5808     -10.0      -7.0      -2.0      -6.0      -1.0       9.0   \n",
              "4648  5809       6.0       4.0       5.0       4.0     -11.0      -2.0   \n",
              "4649  5810      -2.0       0.0       0.0      -1.0       4.0      11.0   \n",
              "\n",
              "      motion_6  motion_7  motion_8  ...  motion_54  motion_55  motion_56  \\\n",
              "0          1.0       0.0     -15.0  ...        0.0       -1.0      -13.0   \n",
              "1        -52.0      18.0      15.0  ...      -70.0      -55.0      -38.0   \n",
              "2          1.0      -3.0     -14.0  ...        1.0       12.0      -25.0   \n",
              "3         28.0       3.0      12.0  ...        0.0      -21.0      -17.0   \n",
              "4          1.0       3.0     -16.0  ...       -1.0        2.0       -1.0   \n",
              "...        ...       ...       ...  ...        ...        ...        ...   \n",
              "4645      -3.0      -5.0      -6.0  ...       -2.0       -2.0      -15.0   \n",
              "4646     -28.0       0.0      11.0  ...      -54.0       -6.0      -34.0   \n",
              "4647     -76.0     -17.0      40.0  ...       91.0       30.0       24.0   \n",
              "4648      11.0      11.0     -19.0  ...       -7.0      -14.0      -67.0   \n",
              "4649      -2.0     -19.0      13.0  ...       -5.0       -2.0      -10.0   \n",
              "\n",
              "      motion_57  motion_58  motion_59  motion_60  motion_61  motion_62  \\\n",
              "0          -3.0        1.0       -1.0      -32.0      -22.0       -2.0   \n",
              "1         -14.0      -12.0       -8.0      -34.0      -63.0      -87.0   \n",
              "2           0.0        0.0        3.0        2.0      -27.0        1.0   \n",
              "3          -2.0        0.0       -4.0      -17.0      -21.0      -21.0   \n",
              "4           1.0        4.0        4.0      -17.0      -38.0       -3.0   \n",
              "...         ...        ...        ...        ...        ...        ...   \n",
              "4645       -6.0        0.0        0.0       22.0       23.0       -4.0   \n",
              "4646      -29.0       -8.0      -12.0        2.0       -7.0       55.0   \n",
              "4647       -3.0        1.0        8.0        0.0       -7.0      -76.0   \n",
              "4648       -3.0       -4.0       -2.0       -5.0        7.0       14.0   \n",
              "4649        4.0        0.0       -3.0      -12.0      -22.0       -4.0   \n",
              "\n",
              "      motion_63  \n",
              "0          -3.0  \n",
              "1         -77.0  \n",
              "2           0.0  \n",
              "3          25.0  \n",
              "4           3.0  \n",
              "...         ...  \n",
              "4645       -3.0  \n",
              "4646       19.0  \n",
              "4647       28.0  \n",
              "4648       22.0  \n",
              "4649        5.0  \n",
              "\n",
              "[4650 rows x 65 columns]"
            ],
            "text/html": [
              "\n",
              "  <div id=\"df-d6223ca1-c33e-4083-9ec7-03cf41812bf8\">\n",
              "    <div class=\"colab-df-container\">\n",
              "      <div>\n",
              "<style scoped>\n",
              "    .dataframe tbody tr th:only-of-type {\n",
              "        vertical-align: middle;\n",
              "    }\n",
              "\n",
              "    .dataframe tbody tr th {\n",
              "        vertical-align: top;\n",
              "    }\n",
              "\n",
              "    .dataframe thead th {\n",
              "        text-align: right;\n",
              "    }\n",
              "</style>\n",
              "<table border=\"1\" class=\"dataframe\">\n",
              "  <thead>\n",
              "    <tr style=\"text-align: right;\">\n",
              "      <th></th>\n",
              "      <th>ID</th>\n",
              "      <th>motion_0</th>\n",
              "      <th>motion_1</th>\n",
              "      <th>motion_2</th>\n",
              "      <th>motion_3</th>\n",
              "      <th>motion_4</th>\n",
              "      <th>motion_5</th>\n",
              "      <th>motion_6</th>\n",
              "      <th>motion_7</th>\n",
              "      <th>motion_8</th>\n",
              "      <th>...</th>\n",
              "      <th>motion_54</th>\n",
              "      <th>motion_55</th>\n",
              "      <th>motion_56</th>\n",
              "      <th>motion_57</th>\n",
              "      <th>motion_58</th>\n",
              "      <th>motion_59</th>\n",
              "      <th>motion_60</th>\n",
              "      <th>motion_61</th>\n",
              "      <th>motion_62</th>\n",
              "      <th>motion_63</th>\n",
              "    </tr>\n",
              "  </thead>\n",
              "  <tbody>\n",
              "    <tr>\n",
              "      <th>0</th>\n",
              "      <td>0</td>\n",
              "      <td>1.0</td>\n",
              "      <td>-2.0</td>\n",
              "      <td>-1.0</td>\n",
              "      <td>4.0</td>\n",
              "      <td>-5.0</td>\n",
              "      <td>-4.0</td>\n",
              "      <td>1.0</td>\n",
              "      <td>0.0</td>\n",
              "      <td>-15.0</td>\n",
              "      <td>...</td>\n",
              "      <td>0.0</td>\n",
              "      <td>-1.0</td>\n",
              "      <td>-13.0</td>\n",
              "      <td>-3.0</td>\n",
              "      <td>1.0</td>\n",
              "      <td>-1.0</td>\n",
              "      <td>-32.0</td>\n",
              "      <td>-22.0</td>\n",
              "      <td>-2.0</td>\n",
              "      <td>-3.0</td>\n",
              "    </tr>\n",
              "    <tr>\n",
              "      <th>1</th>\n",
              "      <td>2</td>\n",
              "      <td>20.0</td>\n",
              "      <td>0.0</td>\n",
              "      <td>0.0</td>\n",
              "      <td>1.0</td>\n",
              "      <td>5.0</td>\n",
              "      <td>6.0</td>\n",
              "      <td>-52.0</td>\n",
              "      <td>18.0</td>\n",
              "      <td>15.0</td>\n",
              "      <td>...</td>\n",
              "      <td>-70.0</td>\n",
              "      <td>-55.0</td>\n",
              "      <td>-38.0</td>\n",
              "      <td>-14.0</td>\n",
              "      <td>-12.0</td>\n",
              "      <td>-8.0</td>\n",
              "      <td>-34.0</td>\n",
              "      <td>-63.0</td>\n",
              "      <td>-87.0</td>\n",
              "      <td>-77.0</td>\n",
              "    </tr>\n",
              "    <tr>\n",
              "      <th>2</th>\n",
              "      <td>4</td>\n",
              "      <td>1.0</td>\n",
              "      <td>-1.0</td>\n",
              "      <td>1.0</td>\n",
              "      <td>4.0</td>\n",
              "      <td>-5.0</td>\n",
              "      <td>-8.0</td>\n",
              "      <td>1.0</td>\n",
              "      <td>-3.0</td>\n",
              "      <td>-14.0</td>\n",
              "      <td>...</td>\n",
              "      <td>1.0</td>\n",
              "      <td>12.0</td>\n",
              "      <td>-25.0</td>\n",
              "      <td>0.0</td>\n",
              "      <td>0.0</td>\n",
              "      <td>3.0</td>\n",
              "      <td>2.0</td>\n",
              "      <td>-27.0</td>\n",
              "      <td>1.0</td>\n",
              "      <td>0.0</td>\n",
              "    </tr>\n",
              "    <tr>\n",
              "      <th>3</th>\n",
              "      <td>5</td>\n",
              "      <td>13.0</td>\n",
              "      <td>2.0</td>\n",
              "      <td>1.0</td>\n",
              "      <td>-3.0</td>\n",
              "      <td>1.0</td>\n",
              "      <td>3.0</td>\n",
              "      <td>28.0</td>\n",
              "      <td>3.0</td>\n",
              "      <td>12.0</td>\n",
              "      <td>...</td>\n",
              "      <td>0.0</td>\n",
              "      <td>-21.0</td>\n",
              "      <td>-17.0</td>\n",
              "      <td>-2.0</td>\n",
              "      <td>0.0</td>\n",
              "      <td>-4.0</td>\n",
              "      <td>-17.0</td>\n",
              "      <td>-21.0</td>\n",
              "      <td>-21.0</td>\n",
              "      <td>25.0</td>\n",
              "    </tr>\n",
              "    <tr>\n",
              "      <th>4</th>\n",
              "      <td>6</td>\n",
              "      <td>-2.0</td>\n",
              "      <td>-7.0</td>\n",
              "      <td>-4.0</td>\n",
              "      <td>-8.0</td>\n",
              "      <td>16.0</td>\n",
              "      <td>44.0</td>\n",
              "      <td>1.0</td>\n",
              "      <td>3.0</td>\n",
              "      <td>-16.0</td>\n",
              "      <td>...</td>\n",
              "      <td>-1.0</td>\n",
              "      <td>2.0</td>\n",
              "      <td>-1.0</td>\n",
              "      <td>1.0</td>\n",
              "      <td>4.0</td>\n",
              "      <td>4.0</td>\n",
              "      <td>-17.0</td>\n",
              "      <td>-38.0</td>\n",
              "      <td>-3.0</td>\n",
              "      <td>3.0</td>\n",
              "    </tr>\n",
              "    <tr>\n",
              "      <th>...</th>\n",
              "      <td>...</td>\n",
              "      <td>...</td>\n",
              "      <td>...</td>\n",
              "      <td>...</td>\n",
              "      <td>...</td>\n",
              "      <td>...</td>\n",
              "      <td>...</td>\n",
              "      <td>...</td>\n",
              "      <td>...</td>\n",
              "      <td>...</td>\n",
              "      <td>...</td>\n",
              "      <td>...</td>\n",
              "      <td>...</td>\n",
              "      <td>...</td>\n",
              "      <td>...</td>\n",
              "      <td>...</td>\n",
              "      <td>...</td>\n",
              "      <td>...</td>\n",
              "      <td>...</td>\n",
              "      <td>...</td>\n",
              "      <td>...</td>\n",
              "    </tr>\n",
              "    <tr>\n",
              "      <th>4645</th>\n",
              "      <td>5806</td>\n",
              "      <td>3.0</td>\n",
              "      <td>-3.0</td>\n",
              "      <td>-4.0</td>\n",
              "      <td>-9.0</td>\n",
              "      <td>-10.0</td>\n",
              "      <td>7.0</td>\n",
              "      <td>-3.0</td>\n",
              "      <td>-5.0</td>\n",
              "      <td>-6.0</td>\n",
              "      <td>...</td>\n",
              "      <td>-2.0</td>\n",
              "      <td>-2.0</td>\n",
              "      <td>-15.0</td>\n",
              "      <td>-6.0</td>\n",
              "      <td>0.0</td>\n",
              "      <td>0.0</td>\n",
              "      <td>22.0</td>\n",
              "      <td>23.0</td>\n",
              "      <td>-4.0</td>\n",
              "      <td>-3.0</td>\n",
              "    </tr>\n",
              "    <tr>\n",
              "      <th>4646</th>\n",
              "      <td>5807</td>\n",
              "      <td>71.0</td>\n",
              "      <td>19.0</td>\n",
              "      <td>-18.0</td>\n",
              "      <td>-39.0</td>\n",
              "      <td>-26.0</td>\n",
              "      <td>-29.0</td>\n",
              "      <td>-28.0</td>\n",
              "      <td>0.0</td>\n",
              "      <td>11.0</td>\n",
              "      <td>...</td>\n",
              "      <td>-54.0</td>\n",
              "      <td>-6.0</td>\n",
              "      <td>-34.0</td>\n",
              "      <td>-29.0</td>\n",
              "      <td>-8.0</td>\n",
              "      <td>-12.0</td>\n",
              "      <td>2.0</td>\n",
              "      <td>-7.0</td>\n",
              "      <td>55.0</td>\n",
              "      <td>19.0</td>\n",
              "    </tr>\n",
              "    <tr>\n",
              "      <th>4647</th>\n",
              "      <td>5808</td>\n",
              "      <td>-10.0</td>\n",
              "      <td>-7.0</td>\n",
              "      <td>-2.0</td>\n",
              "      <td>-6.0</td>\n",
              "      <td>-1.0</td>\n",
              "      <td>9.0</td>\n",
              "      <td>-76.0</td>\n",
              "      <td>-17.0</td>\n",
              "      <td>40.0</td>\n",
              "      <td>...</td>\n",
              "      <td>91.0</td>\n",
              "      <td>30.0</td>\n",
              "      <td>24.0</td>\n",
              "      <td>-3.0</td>\n",
              "      <td>1.0</td>\n",
              "      <td>8.0</td>\n",
              "      <td>0.0</td>\n",
              "      <td>-7.0</td>\n",
              "      <td>-76.0</td>\n",
              "      <td>28.0</td>\n",
              "    </tr>\n",
              "    <tr>\n",
              "      <th>4648</th>\n",
              "      <td>5809</td>\n",
              "      <td>6.0</td>\n",
              "      <td>4.0</td>\n",
              "      <td>5.0</td>\n",
              "      <td>4.0</td>\n",
              "      <td>-11.0</td>\n",
              "      <td>-2.0</td>\n",
              "      <td>11.0</td>\n",
              "      <td>11.0</td>\n",
              "      <td>-19.0</td>\n",
              "      <td>...</td>\n",
              "      <td>-7.0</td>\n",
              "      <td>-14.0</td>\n",
              "      <td>-67.0</td>\n",
              "      <td>-3.0</td>\n",
              "      <td>-4.0</td>\n",
              "      <td>-2.0</td>\n",
              "      <td>-5.0</td>\n",
              "      <td>7.0</td>\n",
              "      <td>14.0</td>\n",
              "      <td>22.0</td>\n",
              "    </tr>\n",
              "    <tr>\n",
              "      <th>4649</th>\n",
              "      <td>5810</td>\n",
              "      <td>-2.0</td>\n",
              "      <td>0.0</td>\n",
              "      <td>0.0</td>\n",
              "      <td>-1.0</td>\n",
              "      <td>4.0</td>\n",
              "      <td>11.0</td>\n",
              "      <td>-2.0</td>\n",
              "      <td>-19.0</td>\n",
              "      <td>13.0</td>\n",
              "      <td>...</td>\n",
              "      <td>-5.0</td>\n",
              "      <td>-2.0</td>\n",
              "      <td>-10.0</td>\n",
              "      <td>4.0</td>\n",
              "      <td>0.0</td>\n",
              "      <td>-3.0</td>\n",
              "      <td>-12.0</td>\n",
              "      <td>-22.0</td>\n",
              "      <td>-4.0</td>\n",
              "      <td>5.0</td>\n",
              "    </tr>\n",
              "  </tbody>\n",
              "</table>\n",
              "<p>4650 rows × 65 columns</p>\n",
              "</div>\n",
              "      <button class=\"colab-df-convert\" onclick=\"convertToInteractive('df-d6223ca1-c33e-4083-9ec7-03cf41812bf8')\"\n",
              "              title=\"Convert this dataframe to an interactive table.\"\n",
              "              style=\"display:none;\">\n",
              "        \n",
              "  <svg xmlns=\"http://www.w3.org/2000/svg\" height=\"24px\"viewBox=\"0 0 24 24\"\n",
              "       width=\"24px\">\n",
              "    <path d=\"M0 0h24v24H0V0z\" fill=\"none\"/>\n",
              "    <path d=\"M18.56 5.44l.94 2.06.94-2.06 2.06-.94-2.06-.94-.94-2.06-.94 2.06-2.06.94zm-11 1L8.5 8.5l.94-2.06 2.06-.94-2.06-.94L8.5 2.5l-.94 2.06-2.06.94zm10 10l.94 2.06.94-2.06 2.06-.94-2.06-.94-.94-2.06-.94 2.06-2.06.94z\"/><path d=\"M17.41 7.96l-1.37-1.37c-.4-.4-.92-.59-1.43-.59-.52 0-1.04.2-1.43.59L10.3 9.45l-7.72 7.72c-.78.78-.78 2.05 0 2.83L4 21.41c.39.39.9.59 1.41.59.51 0 1.02-.2 1.41-.59l7.78-7.78 2.81-2.81c.8-.78.8-2.07 0-2.86zM5.41 20L4 18.59l7.72-7.72 1.47 1.35L5.41 20z\"/>\n",
              "  </svg>\n",
              "      </button>\n",
              "      \n",
              "  <style>\n",
              "    .colab-df-container {\n",
              "      display:flex;\n",
              "      flex-wrap:wrap;\n",
              "      gap: 12px;\n",
              "    }\n",
              "\n",
              "    .colab-df-convert {\n",
              "      background-color: #E8F0FE;\n",
              "      border: none;\n",
              "      border-radius: 50%;\n",
              "      cursor: pointer;\n",
              "      display: none;\n",
              "      fill: #1967D2;\n",
              "      height: 32px;\n",
              "      padding: 0 0 0 0;\n",
              "      width: 32px;\n",
              "    }\n",
              "\n",
              "    .colab-df-convert:hover {\n",
              "      background-color: #E2EBFA;\n",
              "      box-shadow: 0px 1px 2px rgba(60, 64, 67, 0.3), 0px 1px 3px 1px rgba(60, 64, 67, 0.15);\n",
              "      fill: #174EA6;\n",
              "    }\n",
              "\n",
              "    [theme=dark] .colab-df-convert {\n",
              "      background-color: #3B4455;\n",
              "      fill: #D2E3FC;\n",
              "    }\n",
              "\n",
              "    [theme=dark] .colab-df-convert:hover {\n",
              "      background-color: #434B5C;\n",
              "      box-shadow: 0px 1px 3px 1px rgba(0, 0, 0, 0.15);\n",
              "      filter: drop-shadow(0px 1px 2px rgba(0, 0, 0, 0.3));\n",
              "      fill: #FFFFFF;\n",
              "    }\n",
              "  </style>\n",
              "\n",
              "      <script>\n",
              "        const buttonEl =\n",
              "          document.querySelector('#df-d6223ca1-c33e-4083-9ec7-03cf41812bf8 button.colab-df-convert');\n",
              "        buttonEl.style.display =\n",
              "          google.colab.kernel.accessAllowed ? 'block' : 'none';\n",
              "\n",
              "        async function convertToInteractive(key) {\n",
              "          const element = document.querySelector('#df-d6223ca1-c33e-4083-9ec7-03cf41812bf8');\n",
              "          const dataTable =\n",
              "            await google.colab.kernel.invokeFunction('convertToInteractive',\n",
              "                                                     [key], {});\n",
              "          if (!dataTable) return;\n",
              "\n",
              "          const docLinkHtml = 'Like what you see? Visit the ' +\n",
              "            '<a target=\"_blank\" href=https://colab.research.google.com/notebooks/data_table.ipynb>data table notebook</a>'\n",
              "            + ' to learn more about interactive tables.';\n",
              "          element.innerHTML = '';\n",
              "          dataTable['output_type'] = 'display_data';\n",
              "          await google.colab.output.renderOutput(dataTable, element);\n",
              "          const docLink = document.createElement('div');\n",
              "          docLink.innerHTML = docLinkHtml;\n",
              "          element.appendChild(docLink);\n",
              "        }\n",
              "      </script>\n",
              "    </div>\n",
              "  </div>\n",
              "  "
            ]
          },
          "metadata": {},
          "execution_count": 20
        }
      ]
    },
    {
      "cell_type": "code",
      "source": [
        "# 이상치 확인\n",
        "\n",
        "for col in X_train.select_dtypes(exclude='object').columns:\n",
        "  Q1 = X_train[col].quantile(.25)\n",
        "  Q3 = X_train[col].quantile(.75)\n",
        "\n",
        "  IQR = Q3-Q1\n",
        "\n",
        "  print(col, len(X_train[(X_train[col]< Q1-IQR*1.5) | (X_train[col]> Q3+IQR*1.5)][col]))\n",
        "\n",
        "\n",
        "\n",
        "for col in X_test.select_dtypes(exclude='object').columns:\n",
        "  Q1 = X_test[col].quantile(.25)\n",
        "  Q3 = X_test[col].quantile(.75)\n",
        "\n",
        "  IQR =Q3-Q1\n",
        "\n",
        "  print(col, len(X_test[(X_test[col]<Q1-IQR*1.5) | (X_test[col]>Q3+IQR*1.5)][col]))"
      ],
      "metadata": {
        "id": "KTqfoTYTP-hY",
        "colab": {
          "base_uri": "https://localhost:8080/"
        },
        "outputId": "dcc601e9-eb5a-4ebb-ad86-0f7f8d816ee9"
      },
      "execution_count": 21,
      "outputs": [
        {
          "output_type": "stream",
          "name": "stdout",
          "text": [
            "ID 0\n",
            "motion_0 402\n",
            "motion_1 558\n",
            "motion_2 327\n",
            "motion_3 340\n",
            "motion_4 198\n",
            "motion_5 214\n",
            "motion_6 1501\n",
            "motion_7 393\n",
            "motion_8 389\n",
            "motion_9 542\n",
            "motion_10 211\n",
            "motion_11 355\n",
            "motion_12 220\n",
            "motion_13 249\n",
            "motion_14 1519\n",
            "motion_15 473\n",
            "motion_16 378\n",
            "motion_17 563\n",
            "motion_18 236\n",
            "motion_19 313\n",
            "motion_20 220\n",
            "motion_21 231\n",
            "motion_22 1462\n",
            "motion_23 388\n",
            "motion_24 386\n",
            "motion_25 436\n",
            "motion_26 242\n",
            "motion_27 350\n",
            "motion_28 187\n",
            "motion_29 206\n",
            "motion_30 1478\n",
            "motion_31 386\n",
            "motion_32 337\n",
            "motion_33 392\n",
            "motion_34 236\n",
            "motion_35 349\n",
            "motion_36 202\n",
            "motion_37 243\n",
            "motion_38 1467\n",
            "motion_39 482\n",
            "motion_40 384\n",
            "motion_41 429\n",
            "motion_42 216\n",
            "motion_43 350\n",
            "motion_44 194\n",
            "motion_45 211\n",
            "motion_46 1484\n",
            "motion_47 387\n",
            "motion_48 406\n",
            "motion_49 426\n",
            "motion_50 322\n",
            "motion_51 328\n",
            "motion_52 217\n",
            "motion_53 212\n",
            "motion_54 1395\n",
            "motion_55 392\n",
            "motion_56 372\n",
            "motion_57 397\n",
            "motion_58 214\n",
            "motion_59 362\n",
            "motion_60 184\n",
            "motion_61 264\n",
            "motion_62 1519\n",
            "motion_63 381\n",
            "ID 0\n",
            "motion_0 99\n",
            "motion_1 106\n",
            "motion_2 69\n",
            "motion_3 132\n",
            "motion_4 49\n",
            "motion_5 53\n",
            "motion_6 350\n",
            "motion_7 99\n",
            "motion_8 108\n",
            "motion_9 126\n",
            "motion_10 76\n",
            "motion_11 93\n",
            "motion_12 69\n",
            "motion_13 54\n",
            "motion_14 360\n",
            "motion_15 96\n",
            "motion_16 83\n",
            "motion_17 108\n",
            "motion_18 66\n",
            "motion_19 83\n",
            "motion_20 52\n",
            "motion_21 44\n",
            "motion_22 373\n",
            "motion_23 94\n",
            "motion_24 92\n",
            "motion_25 120\n",
            "motion_26 63\n",
            "motion_27 61\n",
            "motion_28 65\n",
            "motion_29 57\n",
            "motion_30 364\n",
            "motion_31 97\n",
            "motion_32 83\n",
            "motion_33 144\n",
            "motion_34 72\n",
            "motion_35 85\n",
            "motion_36 58\n",
            "motion_37 66\n",
            "motion_38 383\n",
            "motion_39 120\n",
            "motion_40 102\n",
            "motion_41 114\n",
            "motion_42 84\n",
            "motion_43 90\n",
            "motion_44 54\n",
            "motion_45 59\n",
            "motion_46 375\n",
            "motion_47 105\n",
            "motion_48 96\n",
            "motion_49 124\n",
            "motion_50 93\n",
            "motion_51 88\n",
            "motion_52 59\n",
            "motion_53 55\n",
            "motion_54 344\n",
            "motion_55 104\n",
            "motion_56 107\n",
            "motion_57 99\n",
            "motion_58 50\n",
            "motion_59 97\n",
            "motion_60 57\n",
            "motion_61 71\n",
            "motion_62 346\n",
            "motion_63 100\n"
          ]
        }
      ]
    },
    {
      "cell_type": "code",
      "source": [
        "from sklearn.preprocessing import StandardScaler\n",
        "\n",
        "scaler = StandardScaler()\n",
        "trains = scaler.fit_transform(X_train)\n",
        "tests = scaler.transform(X_test)\n"
      ],
      "metadata": {
        "id": "jWI6G1KbPYSc"
      },
      "execution_count": 22,
      "outputs": []
    },
    {
      "cell_type": "code",
      "source": [
        "y_train['pose']"
      ],
      "metadata": {
        "id": "IY4Xc2NhPnIQ",
        "colab": {
          "base_uri": "https://localhost:8080/"
        },
        "outputId": "e645b5c5-07ad-4129-d7ea-542d54880212"
      },
      "execution_count": 23,
      "outputs": [
        {
          "output_type": "execute_result",
          "data": {
            "text/plain": [
              "0       1\n",
              "1       0\n",
              "2       1\n",
              "3       0\n",
              "4       1\n",
              "       ..\n",
              "4645    1\n",
              "4646    0\n",
              "4647    0\n",
              "4648    0\n",
              "4649    1\n",
              "Name: pose, Length: 4650, dtype: int64"
            ]
          },
          "metadata": {},
          "execution_count": 23
        }
      ]
    },
    {
      "cell_type": "code",
      "source": [
        "from sklearn.ensemble import RandomForestClassifier\n",
        "from sklearn.model_selection import train_test_split"
      ],
      "metadata": {
        "id": "-0YgADagRxoB"
      },
      "execution_count": 24,
      "outputs": []
    },
    {
      "cell_type": "code",
      "source": [
        "X_train_m, X_test_m, y_train_m, y_test_m = train_test_split(trains, y_train['pose'],\n",
        "                                                            test_size=0.3,\n",
        "                                                            random_state=42)"
      ],
      "metadata": {
        "id": "jx2kbVbPSBr7"
      },
      "execution_count": 25,
      "outputs": []
    },
    {
      "cell_type": "code",
      "source": [
        "print(X_train_m.shape)\n",
        "print(X_test_m.shape)\n",
        "print(y_train_m.shape)\n",
        "print(y_test_m.shape)"
      ],
      "metadata": {
        "colab": {
          "base_uri": "https://localhost:8080/"
        },
        "id": "QP03msHUSaJr",
        "outputId": "dc4fe930-1cd0-4c05-b7f5-0917d5569429"
      },
      "execution_count": 26,
      "outputs": [
        {
          "output_type": "stream",
          "name": "stdout",
          "text": [
            "(3255, 65)\n",
            "(1395, 65)\n",
            "(3255,)\n",
            "(1395,)\n"
          ]
        }
      ]
    },
    {
      "cell_type": "code",
      "source": [
        "model = RandomForestClassifier(random_state=42)\n",
        "model.fit(X_train_m, y_train_m)\n",
        "pred = model.predict(X_test_m)"
      ],
      "metadata": {
        "id": "PwfmGnV2SijX"
      },
      "execution_count": 27,
      "outputs": []
    },
    {
      "cell_type": "code",
      "source": [
        "pred"
      ],
      "metadata": {
        "colab": {
          "base_uri": "https://localhost:8080/"
        },
        "id": "YjxLWcWuSyq2",
        "outputId": "5e2d29d7-aee0-43bc-e52d-b2854c6c65d9"
      },
      "execution_count": 28,
      "outputs": [
        {
          "output_type": "execute_result",
          "data": {
            "text/plain": [
              "array([0, 1, 0, ..., 0, 1, 0])"
            ]
          },
          "metadata": {},
          "execution_count": 28
        }
      ]
    },
    {
      "cell_type": "code",
      "source": [
        "from sklearn.metrics import roc_auc_score"
      ],
      "metadata": {
        "id": "aKBRru34S4Od"
      },
      "execution_count": 29,
      "outputs": []
    },
    {
      "cell_type": "code",
      "source": [
        "roc_auc_score(y_test_m, pred)"
      ],
      "metadata": {
        "colab": {
          "base_uri": "https://localhost:8080/"
        },
        "id": "moUQXc8MTWQ7",
        "outputId": "57dd8b6f-3522-46bf-a2c8-fb5cafb25a17"
      },
      "execution_count": 30,
      "outputs": [
        {
          "output_type": "execute_result",
          "data": {
            "text/plain": [
              "0.9957212688806849"
            ]
          },
          "metadata": {},
          "execution_count": 30
        }
      ]
    },
    {
      "cell_type": "code",
      "source": [
        ""
      ],
      "metadata": {
        "id": "XH_gJBoeTCTp"
      },
      "execution_count": 30,
      "outputs": []
    }
  ]
}