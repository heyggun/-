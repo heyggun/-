{
  "nbformat": 4,
  "nbformat_minor": 0,
  "metadata": {
    "colab": {
      "name": "DataManim_type1_case6.ipynb",
      "provenance": [],
      "authorship_tag": "ABX9TyOLl61LiOfc+c2oefab1WT7",
      "include_colab_link": true
    },
    "kernelspec": {
      "name": "python3",
      "display_name": "Python 3"
    },
    "language_info": {
      "name": "python"
    }
  },
  "cells": [
    {
      "cell_type": "markdown",
      "metadata": {
        "id": "view-in-github",
        "colab_type": "text"
      },
      "source": [
        "<a href=\"https://colab.research.google.com/github/heyggun/bigdata_analysis_test/blob/main/DataManim_type1_case6.ipynb\" target=\"_parent\"><img src=\"https://colab.research.google.com/assets/colab-badge.svg\" alt=\"Open In Colab\"/></a>"
      ]
    },
    {
      "cell_type": "markdown",
      "source": [
        "# 작업형 1 유형\n",
        "https://www.datamanim.com/dataset/03_dataq/typeone.html#id21"
      ],
      "metadata": {
        "id": "S8mFGvwSATMG"
      }
    },
    {
      "cell_type": "code",
      "source": [
        "import pandas as pd\n",
        "import numpy as np"
      ],
      "metadata": {
        "id": "fJF1rSnTA2Us"
      },
      "execution_count": 1,
      "outputs": []
    },
    {
      "cell_type": "markdown",
      "source": [
        "## nba 선수 능력치 데이터"
      ],
      "metadata": {
        "id": "FxWvgYj9AcM1"
      }
    },
    {
      "cell_type": "markdown",
      "source": [
        "- 데이터 출처 :https://www.kaggle.com/datasets/vivovinco/nba-player-stats(참고, 데이터 수정)\n",
        "- Data url :https://raw.githubusercontent.com/Datamanim/datarepo/main/nba/nba.csv"
      ],
      "metadata": {
        "id": "Rw_M7OXzAm1l"
      }
    },
    {
      "cell_type": "code",
      "execution_count": 2,
      "metadata": {
        "colab": {
          "base_uri": "https://localhost:8080/",
          "height": 289
        },
        "id": "74z36GPd_xzi",
        "outputId": "f5d6beaf-8dcd-4429-b9ba-d63bb8a11a48"
      },
      "outputs": [
        {
          "output_type": "display_data",
          "data": {
            "text/plain": [
              "   Rk            Player Pos  Age   Tm   G  GS    MP   FG   FGA  ...    FT%  \\\n",
              "0   1  Precious Achiuwa   C   22  TOR  73  28  23.6  3.6   8.3  ...  0.595   \n",
              "1   2      Steven Adams   C   28  MEM  76  75  26.3  2.8   5.1  ...  0.543   \n",
              "2   3       Bam Adebayo   C   24  MIA  56  56  32.6  7.3  13.0  ...  0.753   \n",
              "\n",
              "   ORB  DRB   TRB  AST  STL  BLK  TOV   PF   PTS  \n",
              "0  2.0  4.5   6.5  1.1  0.5  0.6  1.2  2.1   9.1  \n",
              "1  4.6  5.4  10.0  3.4  0.9  0.8  1.5  2.0   6.9  \n",
              "2  2.4  7.6  10.1  3.4  1.4  0.8  2.6  3.1  19.1  \n",
              "\n",
              "[3 rows x 30 columns]"
            ],
            "text/html": [
              "\n",
              "  <div id=\"df-a32a2da0-a26a-4b10-8007-e6a1d9525a70\">\n",
              "    <div class=\"colab-df-container\">\n",
              "      <div>\n",
              "<style scoped>\n",
              "    .dataframe tbody tr th:only-of-type {\n",
              "        vertical-align: middle;\n",
              "    }\n",
              "\n",
              "    .dataframe tbody tr th {\n",
              "        vertical-align: top;\n",
              "    }\n",
              "\n",
              "    .dataframe thead th {\n",
              "        text-align: right;\n",
              "    }\n",
              "</style>\n",
              "<table border=\"1\" class=\"dataframe\">\n",
              "  <thead>\n",
              "    <tr style=\"text-align: right;\">\n",
              "      <th></th>\n",
              "      <th>Rk</th>\n",
              "      <th>Player</th>\n",
              "      <th>Pos</th>\n",
              "      <th>Age</th>\n",
              "      <th>Tm</th>\n",
              "      <th>G</th>\n",
              "      <th>GS</th>\n",
              "      <th>MP</th>\n",
              "      <th>FG</th>\n",
              "      <th>FGA</th>\n",
              "      <th>...</th>\n",
              "      <th>FT%</th>\n",
              "      <th>ORB</th>\n",
              "      <th>DRB</th>\n",
              "      <th>TRB</th>\n",
              "      <th>AST</th>\n",
              "      <th>STL</th>\n",
              "      <th>BLK</th>\n",
              "      <th>TOV</th>\n",
              "      <th>PF</th>\n",
              "      <th>PTS</th>\n",
              "    </tr>\n",
              "  </thead>\n",
              "  <tbody>\n",
              "    <tr>\n",
              "      <th>0</th>\n",
              "      <td>1</td>\n",
              "      <td>Precious Achiuwa</td>\n",
              "      <td>C</td>\n",
              "      <td>22</td>\n",
              "      <td>TOR</td>\n",
              "      <td>73</td>\n",
              "      <td>28</td>\n",
              "      <td>23.6</td>\n",
              "      <td>3.6</td>\n",
              "      <td>8.3</td>\n",
              "      <td>...</td>\n",
              "      <td>0.595</td>\n",
              "      <td>2.0</td>\n",
              "      <td>4.5</td>\n",
              "      <td>6.5</td>\n",
              "      <td>1.1</td>\n",
              "      <td>0.5</td>\n",
              "      <td>0.6</td>\n",
              "      <td>1.2</td>\n",
              "      <td>2.1</td>\n",
              "      <td>9.1</td>\n",
              "    </tr>\n",
              "    <tr>\n",
              "      <th>1</th>\n",
              "      <td>2</td>\n",
              "      <td>Steven Adams</td>\n",
              "      <td>C</td>\n",
              "      <td>28</td>\n",
              "      <td>MEM</td>\n",
              "      <td>76</td>\n",
              "      <td>75</td>\n",
              "      <td>26.3</td>\n",
              "      <td>2.8</td>\n",
              "      <td>5.1</td>\n",
              "      <td>...</td>\n",
              "      <td>0.543</td>\n",
              "      <td>4.6</td>\n",
              "      <td>5.4</td>\n",
              "      <td>10.0</td>\n",
              "      <td>3.4</td>\n",
              "      <td>0.9</td>\n",
              "      <td>0.8</td>\n",
              "      <td>1.5</td>\n",
              "      <td>2.0</td>\n",
              "      <td>6.9</td>\n",
              "    </tr>\n",
              "    <tr>\n",
              "      <th>2</th>\n",
              "      <td>3</td>\n",
              "      <td>Bam Adebayo</td>\n",
              "      <td>C</td>\n",
              "      <td>24</td>\n",
              "      <td>MIA</td>\n",
              "      <td>56</td>\n",
              "      <td>56</td>\n",
              "      <td>32.6</td>\n",
              "      <td>7.3</td>\n",
              "      <td>13.0</td>\n",
              "      <td>...</td>\n",
              "      <td>0.753</td>\n",
              "      <td>2.4</td>\n",
              "      <td>7.6</td>\n",
              "      <td>10.1</td>\n",
              "      <td>3.4</td>\n",
              "      <td>1.4</td>\n",
              "      <td>0.8</td>\n",
              "      <td>2.6</td>\n",
              "      <td>3.1</td>\n",
              "      <td>19.1</td>\n",
              "    </tr>\n",
              "  </tbody>\n",
              "</table>\n",
              "<p>3 rows × 30 columns</p>\n",
              "</div>\n",
              "      <button class=\"colab-df-convert\" onclick=\"convertToInteractive('df-a32a2da0-a26a-4b10-8007-e6a1d9525a70')\"\n",
              "              title=\"Convert this dataframe to an interactive table.\"\n",
              "              style=\"display:none;\">\n",
              "        \n",
              "  <svg xmlns=\"http://www.w3.org/2000/svg\" height=\"24px\"viewBox=\"0 0 24 24\"\n",
              "       width=\"24px\">\n",
              "    <path d=\"M0 0h24v24H0V0z\" fill=\"none\"/>\n",
              "    <path d=\"M18.56 5.44l.94 2.06.94-2.06 2.06-.94-2.06-.94-.94-2.06-.94 2.06-2.06.94zm-11 1L8.5 8.5l.94-2.06 2.06-.94-2.06-.94L8.5 2.5l-.94 2.06-2.06.94zm10 10l.94 2.06.94-2.06 2.06-.94-2.06-.94-.94-2.06-.94 2.06-2.06.94z\"/><path d=\"M17.41 7.96l-1.37-1.37c-.4-.4-.92-.59-1.43-.59-.52 0-1.04.2-1.43.59L10.3 9.45l-7.72 7.72c-.78.78-.78 2.05 0 2.83L4 21.41c.39.39.9.59 1.41.59.51 0 1.02-.2 1.41-.59l7.78-7.78 2.81-2.81c.8-.78.8-2.07 0-2.86zM5.41 20L4 18.59l7.72-7.72 1.47 1.35L5.41 20z\"/>\n",
              "  </svg>\n",
              "      </button>\n",
              "      \n",
              "  <style>\n",
              "    .colab-df-container {\n",
              "      display:flex;\n",
              "      flex-wrap:wrap;\n",
              "      gap: 12px;\n",
              "    }\n",
              "\n",
              "    .colab-df-convert {\n",
              "      background-color: #E8F0FE;\n",
              "      border: none;\n",
              "      border-radius: 50%;\n",
              "      cursor: pointer;\n",
              "      display: none;\n",
              "      fill: #1967D2;\n",
              "      height: 32px;\n",
              "      padding: 0 0 0 0;\n",
              "      width: 32px;\n",
              "    }\n",
              "\n",
              "    .colab-df-convert:hover {\n",
              "      background-color: #E2EBFA;\n",
              "      box-shadow: 0px 1px 2px rgba(60, 64, 67, 0.3), 0px 1px 3px 1px rgba(60, 64, 67, 0.15);\n",
              "      fill: #174EA6;\n",
              "    }\n",
              "\n",
              "    [theme=dark] .colab-df-convert {\n",
              "      background-color: #3B4455;\n",
              "      fill: #D2E3FC;\n",
              "    }\n",
              "\n",
              "    [theme=dark] .colab-df-convert:hover {\n",
              "      background-color: #434B5C;\n",
              "      box-shadow: 0px 1px 3px 1px rgba(0, 0, 0, 0.15);\n",
              "      filter: drop-shadow(0px 1px 2px rgba(0, 0, 0, 0.3));\n",
              "      fill: #FFFFFF;\n",
              "    }\n",
              "  </style>\n",
              "\n",
              "      <script>\n",
              "        const buttonEl =\n",
              "          document.querySelector('#df-a32a2da0-a26a-4b10-8007-e6a1d9525a70 button.colab-df-convert');\n",
              "        buttonEl.style.display =\n",
              "          google.colab.kernel.accessAllowed ? 'block' : 'none';\n",
              "\n",
              "        async function convertToInteractive(key) {\n",
              "          const element = document.querySelector('#df-a32a2da0-a26a-4b10-8007-e6a1d9525a70');\n",
              "          const dataTable =\n",
              "            await google.colab.kernel.invokeFunction('convertToInteractive',\n",
              "                                                     [key], {});\n",
              "          if (!dataTable) return;\n",
              "\n",
              "          const docLinkHtml = 'Like what you see? Visit the ' +\n",
              "            '<a target=\"_blank\" href=https://colab.research.google.com/notebooks/data_table.ipynb>data table notebook</a>'\n",
              "            + ' to learn more about interactive tables.';\n",
              "          element.innerHTML = '';\n",
              "          dataTable['output_type'] = 'display_data';\n",
              "          await google.colab.output.renderOutput(dataTable, element);\n",
              "          const docLink = document.createElement('div');\n",
              "          docLink.innerHTML = docLinkHtml;\n",
              "          element.appendChild(docLink);\n",
              "        }\n",
              "      </script>\n",
              "    </div>\n",
              "  </div>\n",
              "  "
            ]
          },
          "metadata": {}
        }
      ],
      "source": [
        "DataUrl = 'https://raw.githubusercontent.com/Datamanim/datarepo/main/nba/nba.csv'\n",
        "\n",
        "df = pd.read_csv(DataUrl, sep=';', encoding='latin')\n",
        "display(df.head(3))"
      ]
    },
    {
      "cell_type": "markdown",
      "source": [
        "Q. Tm 컬럼은 각 팀의 이름을 의미한다. TOR팀의 평균나이를 소수 4째 자리까지 구하여라"
      ],
      "metadata": {
        "id": "s0eWoEO9B3DZ"
      }
    },
    {
      "cell_type": "code",
      "source": [
        "round(df.loc[df['Tm']=='TOR']['Age'].mean(),4)"
      ],
      "metadata": {
        "colab": {
          "base_uri": "https://localhost:8080/"
        },
        "id": "29KZbJNqB245",
        "outputId": "aaa12e6d-657f-491b-be83-a107ff8419ab"
      },
      "execution_count": 3,
      "outputs": [
        {
          "output_type": "execute_result",
          "data": {
            "text/plain": [
              "24.8696"
            ]
          },
          "metadata": {},
          "execution_count": 3
        }
      ]
    },
    {
      "cell_type": "markdown",
      "source": [
        "Q. Pos 컬럼은 포지션을 의미한다. 전체 선수 중 최소나이대의 선수들을 필터하고 그들 중 가장 많은 포지션은 무엇인지 확인하라"
      ],
      "metadata": {
        "id": "REdw8hPcCI4J"
      }
    },
    {
      "cell_type": "code",
      "source": [
        "df.loc[df['Age']==df['Age'].min()].groupby('Pos').size().sort_values(ascending=False).index[0]"
      ],
      "metadata": {
        "colab": {
          "base_uri": "https://localhost:8080/",
          "height": 35
        },
        "id": "HNglRHRUCR_V",
        "outputId": "3f4e01dc-16f5-4e68-d224-096ffce3e92c"
      },
      "execution_count": 4,
      "outputs": [
        {
          "output_type": "execute_result",
          "data": {
            "text/plain": [
              "'SG'"
            ],
            "application/vnd.google.colaboratory.intrinsic+json": {
              "type": "string"
            }
          },
          "metadata": {},
          "execution_count": 4
        }
      ]
    },
    {
      "cell_type": "markdown",
      "source": [
        "Q. 선수들의 이름은 first_name+ 공백 + last_name으로 이루어져 있다. 가장 많은 first_name은 무엇이며 몇 회 발생하는지 확인하라"
      ],
      "metadata": {
        "id": "I3gT5q4yCzaC"
      }
    },
    {
      "cell_type": "code",
      "source": [
        "df['Player_first_name'] = df['Player'].apply(lambda x: x.split()[0].lower())\n",
        "df['Player_first_name'].value_counts().to_frame().reset_index().iloc[0]"
      ],
      "metadata": {
        "colab": {
          "base_uri": "https://localhost:8080/"
        },
        "id": "7DeOOQXcCWRs",
        "outputId": "90ae1d83-55e8-41b2-dcc9-4ce7d94e6142"
      },
      "execution_count": 5,
      "outputs": [
        {
          "output_type": "execute_result",
          "data": {
            "text/plain": [
              "index                justin\n",
              "Player_first_name        14\n",
              "Name: 0, dtype: object"
            ]
          },
          "metadata": {},
          "execution_count": 5
        }
      ]
    },
    {
      "cell_type": "markdown",
      "source": [
        "Q. PTS컬럼은 경기당 평균득점수 이다. 각포지션별로 경기당 평균득점수의 평균을 구하여라"
      ],
      "metadata": {
        "id": "HPsjGZB7G5Zh"
      }
    },
    {
      "cell_type": "code",
      "source": [
        "df.groupby('Pos')['PTS'].mean().sort_values()"
      ],
      "metadata": {
        "colab": {
          "base_uri": "https://localhost:8080/"
        },
        "id": "Ng0ic82BDhRA",
        "outputId": "ea9395c0-803c-4f26-d68f-b8514445d026"
      },
      "execution_count": 6,
      "outputs": [
        {
          "output_type": "execute_result",
          "data": {
            "text/plain": [
              "Pos\n",
              "SF        7.270253\n",
              "SG-SF     7.360000\n",
              "C         7.690769\n",
              "PF        7.737500\n",
              "SG        7.810553\n",
              "PG        8.325161\n",
              "PF-SF     8.500000\n",
              "SF-SG     8.660000\n",
              "SG-PG     9.525000\n",
              "C-PF     12.850000\n",
              "PG-SG    22.000000\n",
              "Name: PTS, dtype: float64"
            ]
          },
          "metadata": {},
          "execution_count": 6
        }
      ]
    },
    {
      "cell_type": "markdown",
      "source": [
        "Q. G컬럼은 참여한 경기의 숫자이다. 각 팀별로 가장 높은 경기참여 수를 가진 선수들의 경기 참여 숫자의 평균을 구하여라"
      ],
      "metadata": {
        "id": "T5AJ2Ja9HSBB"
      }
    },
    {
      "cell_type": "code",
      "source": [
        "df.sort_values(['Tm','G']).groupby('Tm').tail(1)['G'].mean()"
      ],
      "metadata": {
        "colab": {
          "base_uri": "https://localhost:8080/"
        },
        "id": "LfVVixXpHKnl",
        "outputId": "c5cc6fea-0446-457e-d331-f5f176058f83"
      },
      "execution_count": 7,
      "outputs": [
        {
          "output_type": "execute_result",
          "data": {
            "text/plain": [
              "77.51612903225806"
            ]
          },
          "metadata": {},
          "execution_count": 7
        }
      ]
    },
    {
      "cell_type": "markdown",
      "source": [
        "Q.Tm의 값이 MIA이며 Pos는 C또는 PF인 선수의 MP값의 평균은?"
      ],
      "metadata": {
        "id": "wzF6PI4XrMeq"
      }
    },
    {
      "cell_type": "code",
      "source": [
        "temp = df.loc[df['Tm']=='MIA']\n",
        "temp.loc[(temp['Pos']=='C') | (temp['Pos']=='PF')]['MP'].mean()"
      ],
      "metadata": {
        "colab": {
          "base_uri": "https://localhost:8080/"
        },
        "id": "Q-lwO8MOrSIr",
        "outputId": "d9fecf81-c4ef-4db7-a2f3-52914228acdc"
      },
      "execution_count": 8,
      "outputs": [
        {
          "output_type": "execute_result",
          "data": {
            "text/plain": [
              "16.787499999999998"
            ]
          },
          "metadata": {},
          "execution_count": 8
        }
      ]
    },
    {
      "cell_type": "code",
      "source": [
        "df[(df['Tm']=='MIA') & (df['Pos'].isin(['C','PF']))]['MP'].mean()"
      ],
      "metadata": {
        "id": "SG5XBGVAHo5G",
        "colab": {
          "base_uri": "https://localhost:8080/"
        },
        "outputId": "2a7868c2-4590-490e-908a-e88b92f527b1"
      },
      "execution_count": 9,
      "outputs": [
        {
          "output_type": "execute_result",
          "data": {
            "text/plain": [
              "16.787499999999998"
            ]
          },
          "metadata": {},
          "execution_count": 9
        }
      ]
    },
    {
      "cell_type": "markdown",
      "source": [
        "Q. 전체 데이터중 G의 평균값의 1.5배 이상인 데이터들만 추출했을때 3P값의 평균은?"
      ],
      "metadata": {
        "id": "VhuFQ2VnrPa8"
      }
    },
    {
      "cell_type": "code",
      "source": [
        "df.loc[df['G']>=(df['G'].mean()*1.5)]['3P'].mean()"
      ],
      "metadata": {
        "id": "YG_7VaSSHux9",
        "colab": {
          "base_uri": "https://localhost:8080/"
        },
        "outputId": "53cdec50-8b3f-42b7-8884-a99ae0b99dfa"
      },
      "execution_count": 10,
      "outputs": [
        {
          "output_type": "execute_result",
          "data": {
            "text/plain": [
              "1.3853658536585358"
            ]
          },
          "metadata": {},
          "execution_count": 10
        }
      ]
    },
    {
      "cell_type": "markdown",
      "source": [
        "Q. Age의 평균 이상인 그룹과 평균 미만인 그룹간의 G값의 평균의 차이는?"
      ],
      "metadata": {
        "id": "4DT21-omsoy-"
      }
    },
    {
      "cell_type": "code",
      "source": [
        "Age_upper = df.loc[df['Age']>=df['Age'].mean()]['G'].mean()\n",
        "Age_lower = df.loc[df['Age']<df['Age'].mean()]['G'].mean()\n",
        "\n",
        "Ans = abs(Age_upper - Age_lower)\n",
        "Ans"
      ],
      "metadata": {
        "colab": {
          "base_uri": "https://localhost:8080/"
        },
        "id": "ZLg2yMNHsKd1",
        "outputId": "f5e3d8d2-3fc0-4049-adb6-c981279d1e8d"
      },
      "execution_count": 11,
      "outputs": [
        {
          "output_type": "execute_result",
          "data": {
            "text/plain": [
              "3.787674551781862"
            ]
          },
          "metadata": {},
          "execution_count": 11
        }
      ]
    },
    {
      "cell_type": "markdown",
      "source": [
        "Q. 평균나이가 가장 젊은 팀은 어디인가"
      ],
      "metadata": {
        "id": "BjB43Z-dtHFe"
      }
    },
    {
      "cell_type": "code",
      "source": [
        "df.groupby('Tm')['Age'].mean().sort_values().index[0]"
      ],
      "metadata": {
        "colab": {
          "base_uri": "https://localhost:8080/",
          "height": 35
        },
        "id": "9kdO-DOSse4H",
        "outputId": "de7d0d99-56c3-473c-e3ea-df309778a8ee"
      },
      "execution_count": 12,
      "outputs": [
        {
          "output_type": "execute_result",
          "data": {
            "text/plain": [
              "'MEM'"
            ],
            "application/vnd.google.colaboratory.intrinsic+json": {
              "type": "string"
            }
          },
          "metadata": {},
          "execution_count": 12
        }
      ]
    },
    {
      "cell_type": "markdown",
      "source": [
        "Q. Pos 그룹별 평균 MP 값을 구하여라"
      ],
      "metadata": {
        "id": "tMLc_JA41Snr"
      }
    },
    {
      "cell_type": "code",
      "source": [
        "df.groupby(['Pos'])['MP'].mean()"
      ],
      "metadata": {
        "colab": {
          "base_uri": "https://localhost:8080/"
        },
        "id": "0cz1D-3dtMRW",
        "outputId": "74d6e1ea-5acf-41e0-b252-e7488ccb4ec9"
      },
      "execution_count": 13,
      "outputs": [
        {
          "output_type": "execute_result",
          "data": {
            "text/plain": [
              "Pos\n",
              "C        16.990000\n",
              "C-PF     25.350000\n",
              "PF       17.937500\n",
              "PF-SF    27.300000\n",
              "PG       19.547742\n",
              "PG-SG    37.200000\n",
              "SF       17.514557\n",
              "SF-SG    20.340000\n",
              "SG       18.554271\n",
              "SG-PG    22.950000\n",
              "SG-SF    19.620000\n",
              "Name: MP, dtype: float64"
            ]
          },
          "metadata": {},
          "execution_count": 13
        }
      ]
    },
    {
      "cell_type": "code",
      "source": [
        ""
      ],
      "metadata": {
        "id": "41WuNwDJ12yO"
      },
      "execution_count": 13,
      "outputs": []
    }
  ]
}